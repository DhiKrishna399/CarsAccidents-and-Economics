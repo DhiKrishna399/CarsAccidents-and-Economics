{
 "cells": [
  {
   "cell_type": "markdown",
   "metadata": {
    "colab_type": "text",
    "id": "b0gcsD0yRrjN"
   },
   "source": [
    "# **Economic Car Accidents**"
   ]
  },
  {
   "cell_type": "markdown",
   "metadata": {
    "colab_type": "text",
    "id": "d3cVrFZRR2fA"
   },
   "source": [
    "# **Reseach Question**"
   ]
  },
  {
   "cell_type": "markdown",
   "metadata": {
    "colab_type": "text",
    "id": "BSA2QkiSSIn3"
   },
   "source": [
    "**(1) How significant of an impact do economic factors have on the frequency and magnitude of car accidents that occur in the United States?**\n",
    "\n",
    "**(2) Do certain makes of cars tend to get in more car accidents than other?**\n"
   ]
  },
  {
   "cell_type": "markdown",
   "metadata": {
    "colab_type": "text",
    "id": "OJRGAxr6ScWf"
   },
   "source": [
    "# **Background and Prior Research**\n"
   ]
  },
  {
   "cell_type": "markdown",
   "metadata": {
    "colab_type": "text",
    "id": "OVpUACA2sUh7"
   },
   "source": [
    "When you think of transportation in the United States, the first thing that comes to mind are cars. With over 250 million registered vehciles in the country, it remains the most common method of transportation to date. With this many vehiciles, we also face an ever increasing number of car accidents. With millions of accidents being reported, insruance companies have used this data to figure out in which situations accidents are more likely to occur. \n",
    "\n",
    "However, one factor that nobody ever really correlates with car accidents, is the economy. An article from *The Los Angeles Times* estimated that in 2014, car accidents tend to have an economoic toll of almost $1 trillion dollars (Fleming). These costs add up based off several factors, such as medical expenses, property damage, and air pollution just to name a few. While there are several indicators of how car accidents affect our economy, we wanted to see if the economy had an impact on the number of accidents that occur in a given year.\n",
    "\n",
    "\n",
    "Sources: https://www.latimes.com/business/autos/la-fi-hy-economic-impact-of-traffic-accidents-20140529-story.html"
   ]
  },
  {
   "cell_type": "markdown",
   "metadata": {
    "colab_type": "text",
    "id": "BCC7uMNX7jtt"
   },
   "source": [
    "**Notes:**\n",
    "\n",
    "The only real trend that studies have shown between cars and the economy is that people are more likely to purchase a new car when the economy is doing well. \n",
    "\n",
    "**Potential Comparisons/Analysis Ideas:**\n",
    "1. Unemployment rates vs. accidents per month/year\n",
    "  a. we have both yearly avg and monthly rates so we can just filter all accidents in the given time frame and make month to month comparisons of the rate and the # of accidents\n",
    "  b. \n",
    "\n",
    "2. Use multiple lienar regression and use economic factors and correlate with the number of accidents per year or month\n",
    "\n",
    "3. Use some ML and try to predict what 2020 will be like \n",
    "\n"
   ]
  },
  {
   "cell_type": "markdown",
   "metadata": {
    "colab_type": "text",
    "id": "PZDcjmDeDn8U"
   },
   "source": [
    "# Datasets"
   ]
  },
  {
   "cell_type": "markdown",
   "metadata": {
    "colab_type": "text",
    "id": "pdZSY-x-DtMO"
   },
   "source": [
    "**Accidents:**  https://www.kaggle.com/sobhanmoosavi/us-accidents\n",
    "\n",
    "**Unemployment Rates Yearly:** https://data.bls.gov/timeseries/LNU04023554&series_id=LNU04000000&series_id=LNU03023554&series_id=LNU03000000&years_option=all_years&periods_option=specific_periods&periods=Annual+Data\n",
    "\n",
    "**GDP Data:** https://www.thebalance.com/us-gdp-by-year-3305543\n",
    "\n",
    "**Inflation Rates:** https://www.usinflationcalculator.com/inflation/current-inflation-rates/\n"
   ]
  },
  {
   "cell_type": "markdown",
   "metadata": {
    "colab_type": "text",
    "id": "EqbtAt3MAAeC"
   },
   "source": [
    "# **Data Cleaning**"
   ]
  },
  {
   "cell_type": "markdown",
   "metadata": {
    "colab_type": "text",
    "id": "L4h1veZwAsLu"
   },
   "source": [
    "# **Setup & Packages**"
   ]
  },
  {
   "cell_type": "code",
   "execution_count": 1,
   "metadata": {
    "colab": {
     "base_uri": "https://localhost:8080/",
     "height": 71
    },
    "colab_type": "code",
    "id": "RV_QYlNMShJB",
    "outputId": "b62c325f-d5ae-4eb7-cf63-2fb131af4d02"
   },
   "outputs": [],
   "source": [
    "import pandas as pd\n",
    "import numpy as np\n",
    "import matplotlib.pyplot as plt\n",
    "import seaborn as sns\n",
    "import requests\n",
    "from bs4 import BeautifulSoup"
   ]
  },
  {
   "cell_type": "code",
   "execution_count": 2,
   "metadata": {
    "colab": {
     "base_uri": "https://localhost:8080/",
     "height": 71
    },
    "colab_type": "code",
    "id": "sPQQi6oZSjRK",
    "outputId": "ecf3f0ee-18a0-4470-8a91-8f6a59fb9a07"
   },
   "outputs": [],
   "source": [
    "#Import all Datasets\n",
    "df_Accidents = pd.read_csv('US_Accidents_June20.csv')\n",
    "df_Unemployment = pd.read_excel('UnemploymentRates.xlsx')\n",
    "df_Unemployment_Rate = pd.read_excel('UnemployedYearlyRates.xlsx')\n",
    "df_Inflation_Rates = pd.read_excel('InflationRates.xlsx')"
   ]
  },
  {
   "cell_type": "code",
   "execution_count": 3,
   "metadata": {
    "colab": {
     "base_uri": "https://localhost:8080/",
     "height": 204
    },
    "colab_type": "code",
    "id": "njKT_saBZ9Vq",
    "outputId": "cc6190ae-7748-4f52-970d-dc03e1ae63c6"
   },
   "outputs": [
    {
     "data": {
      "text/html": [
       "<div>\n",
       "<style scoped>\n",
       "    .dataframe tbody tr th:only-of-type {\n",
       "        vertical-align: middle;\n",
       "    }\n",
       "\n",
       "    .dataframe tbody tr th {\n",
       "        vertical-align: top;\n",
       "    }\n",
       "\n",
       "    .dataframe thead th {\n",
       "        text-align: right;\n",
       "    }\n",
       "</style>\n",
       "<table border=\"1\" class=\"dataframe\">\n",
       "  <thead>\n",
       "    <tr style=\"text-align: right;\">\n",
       "      <th></th>\n",
       "      <th>Year</th>\n",
       "      <th>Nominal_GDP</th>\n",
       "      <th>Real_GDP</th>\n",
       "      <th>GDP Growth Rate</th>\n",
       "    </tr>\n",
       "  </thead>\n",
       "  <tbody>\n",
       "    <tr>\n",
       "      <td>72</td>\n",
       "      <td>2000</td>\n",
       "      <td>$10.252</td>\n",
       "      <td>$13.131</td>\n",
       "      <td>4.1%</td>\n",
       "    </tr>\n",
       "    <tr>\n",
       "      <td>73</td>\n",
       "      <td>2001</td>\n",
       "      <td>$10.582</td>\n",
       "      <td>$13.262</td>\n",
       "      <td>1.0%</td>\n",
       "    </tr>\n",
       "    <tr>\n",
       "      <td>74</td>\n",
       "      <td>2002</td>\n",
       "      <td>$10.936</td>\n",
       "      <td>$13.493</td>\n",
       "      <td>1.7%</td>\n",
       "    </tr>\n",
       "    <tr>\n",
       "      <td>75</td>\n",
       "      <td>2003</td>\n",
       "      <td>$11.458</td>\n",
       "      <td>$13.879</td>\n",
       "      <td>2.9%</td>\n",
       "    </tr>\n",
       "    <tr>\n",
       "      <td>76</td>\n",
       "      <td>2004</td>\n",
       "      <td>$12.214</td>\n",
       "      <td>$14.406</td>\n",
       "      <td>3.8%</td>\n",
       "    </tr>\n",
       "  </tbody>\n",
       "</table>\n",
       "</div>"
      ],
      "text/plain": [
       "    Year Nominal_GDP Real_GDP GDP Growth Rate\n",
       "72  2000     $10.252  $13.131            4.1%\n",
       "73  2001     $10.582  $13.262            1.0%\n",
       "74  2002     $10.936  $13.493            1.7%\n",
       "75  2003     $11.458  $13.879            2.9%\n",
       "76  2004     $12.214  $14.406            3.8%"
      ]
     },
     "execution_count": 3,
     "metadata": {},
     "output_type": "execute_result"
    }
   ],
   "source": [
    "#Scrape for GDP data\n",
    "GDP_URL = 'https://www.thebalance.com/us-gdp-by-year-3305543'\n",
    "page = requests.get(GDP_URL)\n",
    "soup = BeautifulSoup(page.text, 'html.parser')\n",
    "\n",
    "\n",
    "gdp_Table = soup.find('table', attrs={'class':\"mntl-sc-block-table__table\"})\n",
    "list_a, list_b, list_c, list_d = [], [], [], []\n",
    "\n",
    "for row in gdp_Table.findAll('tr'):\n",
    "\n",
    "  cells=row.findAll('td')\n",
    "\n",
    "  try:\n",
    "    list_a.append(cells[0].find(text=True))\n",
    "    list_b.append(cells[1].find(text=True))\n",
    "    list_c.append(cells[2].find(text=True))\n",
    "    list_d.append(cells[3].find(text=True))\n",
    "  except:\n",
    "    break\n",
    "\n",
    "df_GDP = pd.DataFrame({\n",
    "    'Year' : list_a,\n",
    "    'Nominal_GDP' : list_b,\n",
    "    'Real_GDP' : list_c,\n",
    "    'GDP Growth Rate' : list_d\n",
    "})\n",
    "\n",
    "df_GDP = df_GDP.iloc[1:]\n",
    "\n",
    "#Convert to int values\n",
    "df_GDP['Year'] = pd.to_numeric(df_GDP['Year'])\n",
    "\n",
    "\n",
    "#Might have to convert to string and then integer to remove '$' and store as integer\n",
    "#df_GDP.Nominal_GDP.str.replace('$','')\n",
    "#df_GDP.Real_GDP.str.replace('$','')\n",
    "\n",
    "#df_GDP['Nominal_GDP'] = pd.to_numeric(df_GDP['Nominal_GDP'])\n",
    "#df_GDP['Real_GDP'] = pd.to_numeric(df_GDP['Real_GDP'])\n",
    "\n",
    "df_GDP = df_GDP[df_GDP['Year'] > 1999]\n",
    "\n",
    "df_GDP.dtypes\n",
    "df_GDP.head()\n"
   ]
  },
  {
   "cell_type": "code",
   "execution_count": 8,
   "metadata": {
    "colab": {
     "base_uri": "https://localhost:8080/",
     "height": 224
    },
    "colab_type": "code",
    "id": "yZZbv94YDFSe",
    "outputId": "701e8602-6091-47ad-95d0-2cc8380eceac"
   },
   "outputs": [],
   "source": [
    "def year_split(start):\n",
    "    date = str(start)\n",
    "    split = date.split(' ')\n",
    "    year = split[0].split('-')\n",
    "    month = year[1]\n",
    "    return int(year[0])\n",
    "\n",
    "def month_split(start):\n",
    "    date = str(start)\n",
    "    split = date.split(' ')\n",
    "    year = split[0].split('-')\n",
    "    month = year[1]\n",
    "    return int(month)\n"
   ]
  },
  {
   "cell_type": "code",
   "execution_count": 10,
   "metadata": {},
   "outputs": [
    {
     "data": {
      "text/html": [
       "<div>\n",
       "<style scoped>\n",
       "    .dataframe tbody tr th:only-of-type {\n",
       "        vertical-align: middle;\n",
       "    }\n",
       "\n",
       "    .dataframe tbody tr th {\n",
       "        vertical-align: top;\n",
       "    }\n",
       "\n",
       "    .dataframe thead th {\n",
       "        text-align: right;\n",
       "    }\n",
       "</style>\n",
       "<table border=\"1\" class=\"dataframe\">\n",
       "  <thead>\n",
       "    <tr style=\"text-align: right;\">\n",
       "      <th></th>\n",
       "      <th>Year</th>\n",
       "      <th>Month</th>\n",
       "      <th>Start_Time</th>\n",
       "      <th>Severity</th>\n",
       "      <th>Start_Lat</th>\n",
       "      <th>Start_Lng</th>\n",
       "      <th>State</th>\n",
       "      <th>Zipcode</th>\n",
       "      <th>Timezone</th>\n",
       "    </tr>\n",
       "  </thead>\n",
       "  <tbody>\n",
       "    <tr>\n",
       "      <td>0</td>\n",
       "      <td>2016</td>\n",
       "      <td>2</td>\n",
       "      <td>2016-02-08 05:46:00</td>\n",
       "      <td>3</td>\n",
       "      <td>39.865147</td>\n",
       "      <td>-84.058723</td>\n",
       "      <td>OH</td>\n",
       "      <td>45424</td>\n",
       "      <td>US/Eastern</td>\n",
       "    </tr>\n",
       "    <tr>\n",
       "      <td>1</td>\n",
       "      <td>2016</td>\n",
       "      <td>2</td>\n",
       "      <td>2016-02-08 06:07:59</td>\n",
       "      <td>2</td>\n",
       "      <td>39.928059</td>\n",
       "      <td>-82.831184</td>\n",
       "      <td>OH</td>\n",
       "      <td>43068-3402</td>\n",
       "      <td>US/Eastern</td>\n",
       "    </tr>\n",
       "    <tr>\n",
       "      <td>2</td>\n",
       "      <td>2016</td>\n",
       "      <td>2</td>\n",
       "      <td>2016-02-08 06:49:27</td>\n",
       "      <td>2</td>\n",
       "      <td>39.063148</td>\n",
       "      <td>-84.032608</td>\n",
       "      <td>OH</td>\n",
       "      <td>45176</td>\n",
       "      <td>US/Eastern</td>\n",
       "    </tr>\n",
       "    <tr>\n",
       "      <td>3</td>\n",
       "      <td>2016</td>\n",
       "      <td>2</td>\n",
       "      <td>2016-02-08 07:23:34</td>\n",
       "      <td>3</td>\n",
       "      <td>39.747753</td>\n",
       "      <td>-84.205582</td>\n",
       "      <td>OH</td>\n",
       "      <td>45417</td>\n",
       "      <td>US/Eastern</td>\n",
       "    </tr>\n",
       "    <tr>\n",
       "      <td>4</td>\n",
       "      <td>2016</td>\n",
       "      <td>2</td>\n",
       "      <td>2016-02-08 07:39:07</td>\n",
       "      <td>2</td>\n",
       "      <td>39.627781</td>\n",
       "      <td>-84.188354</td>\n",
       "      <td>OH</td>\n",
       "      <td>45459</td>\n",
       "      <td>US/Eastern</td>\n",
       "    </tr>\n",
       "    <tr>\n",
       "      <td>...</td>\n",
       "      <td>...</td>\n",
       "      <td>...</td>\n",
       "      <td>...</td>\n",
       "      <td>...</td>\n",
       "      <td>...</td>\n",
       "      <td>...</td>\n",
       "      <td>...</td>\n",
       "      <td>...</td>\n",
       "      <td>...</td>\n",
       "    </tr>\n",
       "    <tr>\n",
       "      <td>3513612</td>\n",
       "      <td>2019</td>\n",
       "      <td>8</td>\n",
       "      <td>2019-08-23 18:03:25</td>\n",
       "      <td>2</td>\n",
       "      <td>34.002480</td>\n",
       "      <td>-117.379360</td>\n",
       "      <td>CA</td>\n",
       "      <td>92501</td>\n",
       "      <td>US/Pacific</td>\n",
       "    </tr>\n",
       "    <tr>\n",
       "      <td>3513613</td>\n",
       "      <td>2019</td>\n",
       "      <td>8</td>\n",
       "      <td>2019-08-23 19:11:30</td>\n",
       "      <td>2</td>\n",
       "      <td>32.766960</td>\n",
       "      <td>-117.148060</td>\n",
       "      <td>CA</td>\n",
       "      <td>92108</td>\n",
       "      <td>US/Pacific</td>\n",
       "    </tr>\n",
       "    <tr>\n",
       "      <td>3513614</td>\n",
       "      <td>2019</td>\n",
       "      <td>8</td>\n",
       "      <td>2019-08-23 19:00:21</td>\n",
       "      <td>2</td>\n",
       "      <td>33.775450</td>\n",
       "      <td>-117.847790</td>\n",
       "      <td>CA</td>\n",
       "      <td>92866</td>\n",
       "      <td>US/Pacific</td>\n",
       "    </tr>\n",
       "    <tr>\n",
       "      <td>3513615</td>\n",
       "      <td>2019</td>\n",
       "      <td>8</td>\n",
       "      <td>2019-08-23 19:00:21</td>\n",
       "      <td>2</td>\n",
       "      <td>33.992460</td>\n",
       "      <td>-118.403020</td>\n",
       "      <td>CA</td>\n",
       "      <td>90230</td>\n",
       "      <td>US/Pacific</td>\n",
       "    </tr>\n",
       "    <tr>\n",
       "      <td>3513616</td>\n",
       "      <td>2019</td>\n",
       "      <td>8</td>\n",
       "      <td>2019-08-23 18:52:06</td>\n",
       "      <td>2</td>\n",
       "      <td>34.133930</td>\n",
       "      <td>-117.230920</td>\n",
       "      <td>CA</td>\n",
       "      <td>92346</td>\n",
       "      <td>US/Pacific</td>\n",
       "    </tr>\n",
       "  </tbody>\n",
       "</table>\n",
       "<p>3513617 rows × 9 columns</p>\n",
       "</div>"
      ],
      "text/plain": [
       "         Year  Month           Start_Time  Severity  Start_Lat   Start_Lng  \\\n",
       "0        2016      2  2016-02-08 05:46:00         3  39.865147  -84.058723   \n",
       "1        2016      2  2016-02-08 06:07:59         2  39.928059  -82.831184   \n",
       "2        2016      2  2016-02-08 06:49:27         2  39.063148  -84.032608   \n",
       "3        2016      2  2016-02-08 07:23:34         3  39.747753  -84.205582   \n",
       "4        2016      2  2016-02-08 07:39:07         2  39.627781  -84.188354   \n",
       "...       ...    ...                  ...       ...        ...         ...   \n",
       "3513612  2019      8  2019-08-23 18:03:25         2  34.002480 -117.379360   \n",
       "3513613  2019      8  2019-08-23 19:11:30         2  32.766960 -117.148060   \n",
       "3513614  2019      8  2019-08-23 19:00:21         2  33.775450 -117.847790   \n",
       "3513615  2019      8  2019-08-23 19:00:21         2  33.992460 -118.403020   \n",
       "3513616  2019      8  2019-08-23 18:52:06         2  34.133930 -117.230920   \n",
       "\n",
       "        State     Zipcode    Timezone  \n",
       "0          OH       45424  US/Eastern  \n",
       "1          OH  43068-3402  US/Eastern  \n",
       "2          OH       45176  US/Eastern  \n",
       "3          OH       45417  US/Eastern  \n",
       "4          OH       45459  US/Eastern  \n",
       "...       ...         ...         ...  \n",
       "3513612    CA       92501  US/Pacific  \n",
       "3513613    CA       92108  US/Pacific  \n",
       "3513614    CA       92866  US/Pacific  \n",
       "3513615    CA       90230  US/Pacific  \n",
       "3513616    CA       92346  US/Pacific  \n",
       "\n",
       "[3513617 rows x 9 columns]"
      ]
     },
     "execution_count": 10,
     "metadata": {},
     "output_type": "execute_result"
    }
   ],
   "source": [
    "df_Accidents = df_Accidents.assign(Year = df_Accidents.get('Start_Time').apply(year_split), Month = df_Accidents.get('Start_Time').apply(month_split))\n",
    "df_Accidents_Yearly = df_Accidents.groupby('Year').count().reset_index()\n",
    "df_accidents = df_Accidents[['Year','Month','Start_Time', 'Severity','Start_Lat', 'Start_Lng','State','Zipcode', 'Timezone']]\n",
    "df_accidents"
   ]
  },
  {
   "cell_type": "code",
   "execution_count": 24,
   "metadata": {
    "colab": {
     "base_uri": "https://localhost:8080/",
     "height": 901
    },
    "colab_type": "code",
    "id": "Q8z8OvGXJlHs",
    "outputId": "a8dc6d06-f7a3-44a3-feca-468d8a2b24bb"
   },
   "outputs": [
    {
     "name": "stdout",
     "output_type": "stream",
     "text": [
      "ID                       0\n",
      "Source                   0\n",
      "TMC                      0\n",
      "Severity                 0\n",
      "Start_Time               0\n",
      "End_Time                 0\n",
      "Start_Lat                0\n",
      "Start_Lng                0\n",
      "End_Lat                  0\n",
      "End_Lng                  0\n",
      "Distance(mi)             0\n",
      "Description              0\n",
      "Number                   0\n",
      "Street                   0\n",
      "Side                     0\n",
      "City                     0\n",
      "County                   0\n",
      "State                    0\n",
      "Zipcode                  0\n",
      "Country                  0\n",
      "Timezone                 0\n",
      "Airport_Code             0\n",
      "Weather_Timestamp        0\n",
      "Temperature(F)           0\n",
      "Wind_Chill(F)            0\n",
      "Humidity(%)              0\n",
      "Pressure(in)             0\n",
      "Visibility(mi)           0\n",
      "Wind_Direction           0\n",
      "Wind_Speed(mph)          0\n",
      "Precipitation(in)        0\n",
      "Weather_Condition        0\n",
      "Amenity                  0\n",
      "Bump                     0\n",
      "Crossing                 0\n",
      "Give_Way                 0\n",
      "Junction                 0\n",
      "No_Exit                  0\n",
      "Railway                  0\n",
      "Roundabout               0\n",
      "Station                  0\n",
      "Stop                     0\n",
      "Traffic_Calming          0\n",
      "Traffic_Signal           0\n",
      "Turning_Loop             0\n",
      "Sunrise_Sunset           0\n",
      "Civil_Twilight           0\n",
      "Nautical_Twilight        0\n",
      "Astronomical_Twilight    0\n",
      "Year                     0\n",
      "Month                    0\n",
      "dtype: int64\n"
     ]
    }
   ],
   "source": [
    "#Convert start/end_time from object to datetime object so we can run time queries easier\n",
    "#df_Accidents['Start_Time'] = pd.to_datetime(df_Accidents['Start_Time'])\n",
    "print(df_Accidents[df_Accidents['Start_Time'].str.len() > 19].count())\n",
    "#df_Accidents_Yearly = df_Accidents.groupby(df_Accidents.Start_Time.dt.year)\n",
    "#df_Accidents_Yearly.head()\n",
    "#df_Accidents.dtypes"
   ]
  },
  {
   "cell_type": "code",
   "execution_count": 25,
   "metadata": {
    "colab": {},
    "colab_type": "code",
    "id": "tO4pjd1bJEY_"
   },
   "outputs": [],
   "source": [
    "#We can consolidate this into one graph if we fix datetime error above\n",
    "\n",
    "#2016\n",
    "df_2016 = df_accidents[df_accidents.get('Year') == 2016]\n",
    "df_2016 = df_2016.groupby('Month').count().reset_index()\n",
    "#df_2016 = df_2016[['Month']]\n",
    "#df_2016 = df_2016.assign(Count = df_2016.get('Year'))\n",
    "#2017\n",
    "df_2017 = df_accidents[df_accidents.get('Year') == 2017]\n",
    "df_2017 = df_2017.groupby('Month').count().reset_index()\n",
    "#2018\n",
    "df_2018 = df_accidents[df_accidents.get('Year') == 2018]\n",
    "df_2018 = df_2018.groupby('Month').count().reset_index()\n",
    "#2019\n",
    "df_2019 = df_accidents[df_accidents.get('Year') == 2019]\n",
    "df_2019 = df_2019.groupby('Month').count().reset_index()"
   ]
  },
  {
   "cell_type": "code",
   "execution_count": 26,
   "metadata": {
    "colab": {
     "base_uri": "https://localhost:8080/",
     "height": 530
    },
    "colab_type": "code",
    "id": "yTMaEAMREEa_",
    "outputId": "0d0b11c7-f29d-483d-a3b0-c6c75e7afb90"
   },
   "outputs": [
    {
     "data": {
      "text/html": [
       "<div>\n",
       "<style scoped>\n",
       "    .dataframe tbody tr th:only-of-type {\n",
       "        vertical-align: middle;\n",
       "    }\n",
       "\n",
       "    .dataframe tbody tr th {\n",
       "        vertical-align: top;\n",
       "    }\n",
       "\n",
       "    .dataframe thead th {\n",
       "        text-align: right;\n",
       "    }\n",
       "</style>\n",
       "<table border=\"1\" class=\"dataframe\">\n",
       "  <thead>\n",
       "    <tr style=\"text-align: right;\">\n",
       "      <th></th>\n",
       "      <th>Month</th>\n",
       "      <th>Year</th>\n",
       "      <th>Start_Time</th>\n",
       "      <th>Severity</th>\n",
       "      <th>Start_Lat</th>\n",
       "      <th>Start_Lng</th>\n",
       "      <th>State</th>\n",
       "      <th>Zipcode</th>\n",
       "      <th>Timezone</th>\n",
       "    </tr>\n",
       "  </thead>\n",
       "  <tbody>\n",
       "    <tr>\n",
       "      <td>0</td>\n",
       "      <td>2</td>\n",
       "      <td>985</td>\n",
       "      <td>985</td>\n",
       "      <td>985</td>\n",
       "      <td>985</td>\n",
       "      <td>985</td>\n",
       "      <td>985</td>\n",
       "      <td>985</td>\n",
       "      <td>985</td>\n",
       "    </tr>\n",
       "    <tr>\n",
       "      <td>1</td>\n",
       "      <td>3</td>\n",
       "      <td>6329</td>\n",
       "      <td>6329</td>\n",
       "      <td>6329</td>\n",
       "      <td>6329</td>\n",
       "      <td>6329</td>\n",
       "      <td>6329</td>\n",
       "      <td>6327</td>\n",
       "      <td>6327</td>\n",
       "    </tr>\n",
       "    <tr>\n",
       "      <td>2</td>\n",
       "      <td>4</td>\n",
       "      <td>18088</td>\n",
       "      <td>18088</td>\n",
       "      <td>18088</td>\n",
       "      <td>18088</td>\n",
       "      <td>18088</td>\n",
       "      <td>18088</td>\n",
       "      <td>18080</td>\n",
       "      <td>18080</td>\n",
       "    </tr>\n",
       "    <tr>\n",
       "      <td>3</td>\n",
       "      <td>5</td>\n",
       "      <td>17610</td>\n",
       "      <td>17610</td>\n",
       "      <td>17610</td>\n",
       "      <td>17610</td>\n",
       "      <td>17610</td>\n",
       "      <td>17610</td>\n",
       "      <td>17608</td>\n",
       "      <td>17608</td>\n",
       "    </tr>\n",
       "    <tr>\n",
       "      <td>4</td>\n",
       "      <td>6</td>\n",
       "      <td>30527</td>\n",
       "      <td>30527</td>\n",
       "      <td>30527</td>\n",
       "      <td>30527</td>\n",
       "      <td>30527</td>\n",
       "      <td>30527</td>\n",
       "      <td>30521</td>\n",
       "      <td>30521</td>\n",
       "    </tr>\n",
       "    <tr>\n",
       "      <td>5</td>\n",
       "      <td>7</td>\n",
       "      <td>45759</td>\n",
       "      <td>45759</td>\n",
       "      <td>45759</td>\n",
       "      <td>45759</td>\n",
       "      <td>45759</td>\n",
       "      <td>45759</td>\n",
       "      <td>45745</td>\n",
       "      <td>45741</td>\n",
       "    </tr>\n",
       "    <tr>\n",
       "      <td>6</td>\n",
       "      <td>8</td>\n",
       "      <td>56425</td>\n",
       "      <td>56425</td>\n",
       "      <td>56425</td>\n",
       "      <td>56425</td>\n",
       "      <td>56425</td>\n",
       "      <td>56425</td>\n",
       "      <td>56408</td>\n",
       "      <td>56405</td>\n",
       "    </tr>\n",
       "    <tr>\n",
       "      <td>7</td>\n",
       "      <td>9</td>\n",
       "      <td>54664</td>\n",
       "      <td>54664</td>\n",
       "      <td>54664</td>\n",
       "      <td>54664</td>\n",
       "      <td>54664</td>\n",
       "      <td>54664</td>\n",
       "      <td>54645</td>\n",
       "      <td>54643</td>\n",
       "    </tr>\n",
       "    <tr>\n",
       "      <td>8</td>\n",
       "      <td>10</td>\n",
       "      <td>55628</td>\n",
       "      <td>55628</td>\n",
       "      <td>55628</td>\n",
       "      <td>55628</td>\n",
       "      <td>55628</td>\n",
       "      <td>55628</td>\n",
       "      <td>55615</td>\n",
       "      <td>55614</td>\n",
       "    </tr>\n",
       "    <tr>\n",
       "      <td>9</td>\n",
       "      <td>11</td>\n",
       "      <td>65010</td>\n",
       "      <td>65010</td>\n",
       "      <td>65010</td>\n",
       "      <td>65010</td>\n",
       "      <td>65010</td>\n",
       "      <td>65010</td>\n",
       "      <td>64997</td>\n",
       "      <td>64997</td>\n",
       "    </tr>\n",
       "    <tr>\n",
       "      <td>10</td>\n",
       "      <td>12</td>\n",
       "      <td>59568</td>\n",
       "      <td>59568</td>\n",
       "      <td>59568</td>\n",
       "      <td>59568</td>\n",
       "      <td>59568</td>\n",
       "      <td>59568</td>\n",
       "      <td>59546</td>\n",
       "      <td>59543</td>\n",
       "    </tr>\n",
       "  </tbody>\n",
       "</table>\n",
       "</div>"
      ],
      "text/plain": [
       "    Month   Year  Start_Time  Severity  Start_Lat  Start_Lng  State  Zipcode  \\\n",
       "0       2    985         985       985        985        985    985      985   \n",
       "1       3   6329        6329      6329       6329       6329   6329     6327   \n",
       "2       4  18088       18088     18088      18088      18088  18088    18080   \n",
       "3       5  17610       17610     17610      17610      17610  17610    17608   \n",
       "4       6  30527       30527     30527      30527      30527  30527    30521   \n",
       "5       7  45759       45759     45759      45759      45759  45759    45745   \n",
       "6       8  56425       56425     56425      56425      56425  56425    56408   \n",
       "7       9  54664       54664     54664      54664      54664  54664    54645   \n",
       "8      10  55628       55628     55628      55628      55628  55628    55615   \n",
       "9      11  65010       65010     65010      65010      65010  65010    64997   \n",
       "10     12  59568       59568     59568      59568      59568  59568    59546   \n",
       "\n",
       "    Timezone  \n",
       "0        985  \n",
       "1       6327  \n",
       "2      18080  \n",
       "3      17608  \n",
       "4      30521  \n",
       "5      45741  \n",
       "6      56405  \n",
       "7      54643  \n",
       "8      55614  \n",
       "9      64997  \n",
       "10     59543  "
      ]
     },
     "execution_count": 26,
     "metadata": {},
     "output_type": "execute_result"
    }
   ],
   "source": [
    "df_2016"
   ]
  },
  {
   "cell_type": "code",
   "execution_count": 33,
   "metadata": {},
   "outputs": [
    {
     "data": {
      "text/plain": [
       "<matplotlib.axes._subplots.AxesSubplot at 0x1a2060a210>"
      ]
     },
     "execution_count": 33,
     "metadata": {},
     "output_type": "execute_result"
    },
    {
     "data": {
      "image/png": "[encoded data removed]",
      "text/plain": [
       "<Figure size 432x288 with 1 Axes>"
      ]
     },
     "metadata": {
      "needs_background": "light"
     },
     "output_type": "display_data"
    }
   ],
   "source": [
    "df_2017.plot.line(x = 'Month', y = 'State')"
   ]
  },
  {
   "cell_type": "code",
   "execution_count": 4,
   "metadata": {
    "colab": {
     "base_uri": "https://localhost:8080/",
     "height": 705
    },
    "colab_type": "code",
    "id": "M2tLjNKO4Rbd",
    "outputId": "857b5cc3-54ed-4d0b-9b3f-ee921cabcbb7"
   },
   "outputs": [
    {
     "data": {
      "text/plain": [
       "[Text(0, 0, '2000'),\n",
       " Text(0, 0, '2001'),\n",
       " Text(0, 0, '2002'),\n",
       " Text(0, 0, '2003'),\n",
       " Text(0, 0, '2004'),\n",
       " Text(0, 0, '2005'),\n",
       " Text(0, 0, '2006'),\n",
       " Text(0, 0, '2007'),\n",
       " Text(0, 0, '2008'),\n",
       " Text(0, 0, '2009'),\n",
       " Text(0, 0, '2010'),\n",
       " Text(0, 0, '2011'),\n",
       " Text(0, 0, '2012'),\n",
       " Text(0, 0, '2013'),\n",
       " Text(0, 0, '2014'),\n",
       " Text(0, 0, '2015'),\n",
       " Text(0, 0, '2016'),\n",
       " Text(0, 0, '2017'),\n",
       " Text(0, 0, '2018'),\n",
       " Text(0, 0, '2019')]"
      ]
     },
     "execution_count": 4,
     "metadata": {
      "tags": []
     },
     "output_type": "execute_result"
    },
    {
     "data": {
      "image/png": "[encoded data removed]",
      "text/plain": [
       "<Figure size 720x360 with 1 Axes>"
      ]
     },
     "metadata": {
      "needs_background": "light",
      "tags": []
     },
     "output_type": "display_data"
    }
   ],
   "source": [
    "plt.figure(figsize=(10,5))\n",
    "df_Unemployment_Rate = df_Unemployment_Rate[df_Unemployment_Rate['Year'] > 1999]\n",
    "ax = sns.barplot(x=df_Unemployment_Rate['Year'], y=df_Unemployment_Rate['Annual'],\n",
    "            data=df_Unemployment_Rate, ci=None, color='blue')\n",
    "\n",
    "ax.set_title('Average Unemployment Rate')\n",
    "ax.set_xticklabels(ax.get_xticklabels(), rotation=45)\n",
    "\n",
    "\n"
   ]
  },
  {
   "cell_type": "code",
   "execution_count": 4,
   "metadata": {
    "colab": {},
    "colab_type": "code",
    "id": "Oq_c4Caa6q1L"
   },
   "outputs": [],
   "source": []
  }
 ],
 "metadata": {
  "colab": {
   "collapsed_sections": [],
   "name": "Cars&Economics.ipynb",
   "provenance": []
  },
  "kernelspec": {
   "display_name": "Python 3",
   "language": "python",
   "name": "python3"
  },
  "language_info": {
   "codemirror_mode": {
    "name": "ipython",
    "version": 3
   },
   "file_extension": ".py",
   "mimetype": "text/x-python",
   "name": "python",
   "nbconvert_exporter": "python",
   "pygments_lexer": "ipython3",
   "version": "3.7.4"
  }
 },
 "nbformat": 4,
 "nbformat_minor": 4
}
