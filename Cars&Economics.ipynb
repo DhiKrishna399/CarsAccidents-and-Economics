{
  "nbformat": 4,
  "nbformat_minor": 0,
  "metadata": {
    "colab": {
      "name": "Cars&Economics.ipynb",
      "provenance": [],
      "collapsed_sections": []
    },
    "kernelspec": {
      "display_name": "Python 3",
      "language": "python",
      "name": "python3"
    },
    "language_info": {
      "codemirror_mode": {
        "name": "ipython",
        "version": 3
      },
      "file_extension": ".py",
      "mimetype": "text/x-python",
      "name": "python",
      "nbconvert_exporter": "python",
      "pygments_lexer": "ipython3",
      "version": "3.7.4"
    }
  },
  "cells": [
    {
      "cell_type": "markdown",
      "metadata": {
        "colab_type": "text",
        "id": "b0gcsD0yRrjN"
      },
      "source": [
        "# **Economic Car Accidents**"
      ]
    },
    {
      "cell_type": "markdown",
      "metadata": {
        "colab_type": "text",
        "id": "d3cVrFZRR2fA"
      },
      "source": [
        "# **Reseach Question**"
      ]
    },
    {
      "cell_type": "markdown",
      "metadata": {
        "colab_type": "text",
        "id": "BSA2QkiSSIn3"
      },
      "source": [
        "**(1) How significant of an impact do economic factors have on the frequency of car accidents that occur in the United States? In this project, the economic factors we chose to focus on are unemployment and inflation rates. There are other factors that impact the economy, but we found that US citizens are more directly impacted by these factors. In addition, although we would like to analyze more economic data, most of the data we came across on the web required us to pay for it, so we stuck to whatever data we could download or scrape for free.**\n",
        "\n",
        "\n"
      ]
    },
    {
      "cell_type": "markdown",
      "metadata": {
        "colab_type": "text",
        "id": "OJRGAxr6ScWf"
      },
      "source": [
        "# **Background and Prior Research**\n"
      ]
    },
    {
      "cell_type": "markdown",
      "metadata": {
        "colab_type": "text",
        "id": "OVpUACA2sUh7"
      },
      "source": [
        "When you think of transportation in the United States, the first thing that comes to mind are cars. With over 250 million registered vehciles in the country, it remains the most common method of transportation to date. With this many vehiciles, we also face an ever increasing number of car accidents. With millions of accidents being reported, insruance companies have used this data to figure out in which situations accidents are more likely to occur. \n",
        "\n",
        "However, one factor that nobody ever really correlates with car accidents, is the economy. An article from *The Los Angeles Times* estimated that in 2014, car accidents tend to have an economoic toll of almost $1 trillion dollars (Fleming). These costs add up based off several factors, such as medical expenses, property damage, and air pollution just to name a few. While there are several indicators of how car accidents affect our economy, we wanted to see if the economy had an impact on the number of accidents that occur in a given year.\n",
        "\n",
        "\n",
        "Sources: https://www.latimes.com/business/autos/la-fi-hy-economic-impact-of-traffic-accidents-20140529-story.html"
      ]
    },
    {
      "cell_type": "markdown",
      "metadata": {
        "colab_type": "text",
        "id": "BCC7uMNX7jtt"
      },
      "source": [
        "**Notes:**\n",
        "\n",
        "The only real trend that studies have shown between cars and the economy is that people are more likely to purchase a new car when the economy is doing well. \n",
        "\n",
        "**Potential Comparisons/Analysis Ideas:**\n",
        "1. Unemployment rates vs. accidents per month/year\n",
        "  a. we have both yearly avg and monthly rates so we can just filter all accidents in the given time frame and make month to month comparisons of the rate and the # of accidents\n",
        "  b. \n",
        "\n",
        "2. Use multiple lienar regression and use economic factors and correlate with the number of accidents per year or month\n",
        "\n",
        "3. Use some ML and try to predict what 2020 will be like \n",
        "\n"
      ]
    },
    {
      "cell_type": "markdown",
      "metadata": {
        "id": "imAByeiQE7rm",
        "colab_type": "text"
      },
      "source": [
        "# **Hypothesis**\n",
        "\n",
        "1. We believe that there will be a positive linear correlation between inflation rates and the frequency of accidents that occur. \n",
        "\n",
        "2. In regards to unemployment, we believe that as the unemployment rate decreases, the number of accidents will increase.  "
      ]
    },
    {
      "cell_type": "markdown",
      "metadata": {
        "colab_type": "text",
        "id": "PZDcjmDeDn8U"
      },
      "source": [
        "# Datasets"
      ]
    },
    {
      "cell_type": "markdown",
      "metadata": {
        "colab_type": "text",
        "id": "pdZSY-x-DtMO"
      },
      "source": [
        "**Accidents:**  https://www.kaggle.com/sobhanmoosavi/us-accidents\n",
        "\n",
        "**Unemployment Rates Yearly:** https://data.bls.gov/timeseries/LNU04023554&series_id=LNU04000000&series_id=LNU03023554&series_id=LNU03000000&years_option=all_years&periods_option=specific_periods&periods=Annual+Data\n",
        "\n",
        "**GDP Data:** https://www.thebalance.com/us-gdp-by-year-3305543\n",
        "\n",
        "**Inflation Rates:** https://www.usinflationcalculator.com/inflation/current-inflation-rates/\n"
      ]
    },
    {
      "cell_type": "markdown",
      "metadata": {
        "colab_type": "text",
        "id": "L4h1veZwAsLu"
      },
      "source": [
        "# **Setup & Packages**"
      ]
    },
    {
      "cell_type": "code",
      "metadata": {
        "colab_type": "code",
        "id": "RV_QYlNMShJB",
        "colab": {}
      },
      "source": [
        "import pandas as pd\n",
        "import numpy as np\n",
        "import matplotlib.pyplot as plt\n",
        "import seaborn as sns\n",
        "import requests\n",
        "from bs4 import BeautifulSoup"
      ],
      "execution_count": 40,
      "outputs": []
    },
    {
      "cell_type": "code",
      "metadata": {
        "colab_type": "code",
        "id": "sPQQi6oZSjRK",
        "colab": {
          "base_uri": "https://localhost:8080/",
          "height": 71
        },
        "outputId": "946f3707-6afd-49bc-ee45-7eeb52548fcf"
      },
      "source": [
        "#Import Downloaded Datasets\n",
        "df_Accidents = pd.read_csv('US_Accidents_June20.csv')\n",
        "df_Unemployment = pd.read_excel('UnemploymentRates.xlsx')\n",
        "df_Unemployment_Rate = pd.read_excel('UnemployedYearlyRates.xlsx')\n",
        "df_Inflation_Rates = pd.read_excel('InflationRates.xlsx')\n"
      ],
      "execution_count": 41,
      "outputs": [
        {
          "output_type": "stream",
          "text": [
            "/usr/local/lib/python3.6/dist-packages/IPython/core/interactiveshell.py:2718: DtypeWarning: Columns (32,33,34,35,36,37,38,39,40,41,42,43,44) have mixed types.Specify dtype option on import or set low_memory=False.\n",
            "  interactivity=interactivity, compiler=compiler, result=result)\n"
          ],
          "name": "stderr"
        }
      ]
    },
    {
      "cell_type": "markdown",
      "metadata": {
        "colab_type": "text",
        "id": "EqbtAt3MAAeC"
      },
      "source": [
        "# **Data Cleaning**"
      ]
    },
    {
      "cell_type": "code",
      "metadata": {
        "colab_type": "code",
        "id": "njKT_saBZ9Vq",
        "colab": {
          "base_uri": "https://localhost:8080/",
          "height": 204
        },
        "outputId": "d41daa58-c593-4218-b1a9-63e513ce366f"
      },
      "source": [
        "#WebScrape for GDP data\n",
        "GDP_URL = 'https://www.thebalance.com/us-gdp-by-year-3305543'\n",
        "page = requests.get(GDP_URL)\n",
        "soup = BeautifulSoup(page.text, 'html.parser')\n",
        "\n",
        "\n",
        "gdp_Table = soup.find('table', attrs={'class':\"mntl-sc-block-table__table\"})\n",
        "list_a, list_b, list_c, list_d = [], [], [], []\n",
        "\n",
        "for row in gdp_Table.findAll('tr'):\n",
        "\n",
        "  cells=row.findAll('td')\n",
        "\n",
        "  try:\n",
        "    list_a.append(cells[0].find(text=True))\n",
        "    list_b.append(cells[1].find(text=True))\n",
        "    list_c.append(cells[2].find(text=True))\n",
        "    list_d.append(cells[3].find(text=True))\n",
        "  except:\n",
        "    break\n",
        "\n",
        "df_GDP = pd.DataFrame({\n",
        "    'Year' : list_a,\n",
        "    'Nominal_GDP' : list_b,\n",
        "    'Real_GDP' : list_c,\n",
        "    'GDP Growth Rate' : list_d\n",
        "})\n",
        "\n",
        "df_GDP = df_GDP.iloc[1:]\n",
        "\n",
        "#Convert to int values\n",
        "df_GDP['Year'] = pd.to_numeric(df_GDP['Year'])\n",
        "\n",
        "\n",
        "#Might have to convert to string and then integer to remove '$' and store as integer\n",
        "#df_GDP.Nominal_GDP.str.replace('$','')\n",
        "#df_GDP.Real_GDP.str.replace('$','')\n",
        "\n",
        "#df_GDP['Nominal_GDP'] = pd.to_numeric(df_GDP['Nominal_GDP'])\n",
        "#df_GDP['Real_GDP'] = pd.to_numeric(df_GDP['Real_GDP'])\n",
        "\n",
        "df_GDP = df_GDP[df_GDP['Year'] > 1999]\n",
        "\n",
        "df_GDP.dtypes\n",
        "df_GDP.head()\n"
      ],
      "execution_count": 42,
      "outputs": [
        {
          "output_type": "execute_result",
          "data": {
            "text/html": [
              "<div>\n",
              "<style scoped>\n",
              "    .dataframe tbody tr th:only-of-type {\n",
              "        vertical-align: middle;\n",
              "    }\n",
              "\n",
              "    .dataframe tbody tr th {\n",
              "        vertical-align: top;\n",
              "    }\n",
              "\n",
              "    .dataframe thead th {\n",
              "        text-align: right;\n",
              "    }\n",
              "</style>\n",
              "<table border=\"1\" class=\"dataframe\">\n",
              "  <thead>\n",
              "    <tr style=\"text-align: right;\">\n",
              "      <th></th>\n",
              "      <th>Year</th>\n",
              "      <th>Nominal_GDP</th>\n",
              "      <th>Real_GDP</th>\n",
              "      <th>GDP Growth Rate</th>\n",
              "    </tr>\n",
              "  </thead>\n",
              "  <tbody>\n",
              "    <tr>\n",
              "      <th>72</th>\n",
              "      <td>2000</td>\n",
              "      <td>$10.252</td>\n",
              "      <td>$13.131</td>\n",
              "      <td>4.1%</td>\n",
              "    </tr>\n",
              "    <tr>\n",
              "      <th>73</th>\n",
              "      <td>2001</td>\n",
              "      <td>$10.582</td>\n",
              "      <td>$13.262</td>\n",
              "      <td>1.0%</td>\n",
              "    </tr>\n",
              "    <tr>\n",
              "      <th>74</th>\n",
              "      <td>2002</td>\n",
              "      <td>$10.936</td>\n",
              "      <td>$13.493</td>\n",
              "      <td>1.7%</td>\n",
              "    </tr>\n",
              "    <tr>\n",
              "      <th>75</th>\n",
              "      <td>2003</td>\n",
              "      <td>$11.458</td>\n",
              "      <td>$13.879</td>\n",
              "      <td>2.9%</td>\n",
              "    </tr>\n",
              "    <tr>\n",
              "      <th>76</th>\n",
              "      <td>2004</td>\n",
              "      <td>$12.214</td>\n",
              "      <td>$14.406</td>\n",
              "      <td>3.8%</td>\n",
              "    </tr>\n",
              "  </tbody>\n",
              "</table>\n",
              "</div>"
            ],
            "text/plain": [
              "    Year Nominal_GDP Real_GDP GDP Growth Rate\n",
              "72  2000     $10.252  $13.131            4.1%\n",
              "73  2001     $10.582  $13.262            1.0%\n",
              "74  2002     $10.936  $13.493            1.7%\n",
              "75  2003     $11.458  $13.879            2.9%\n",
              "76  2004     $12.214  $14.406            3.8%"
            ]
          },
          "metadata": {
            "tags": []
          },
          "execution_count": 42
        }
      ]
    },
    {
      "cell_type": "code",
      "metadata": {
        "colab_type": "code",
        "id": "yZZbv94YDFSe",
        "colab": {}
      },
      "source": [
        "def year_split(start):\n",
        "    date = str(start)\n",
        "    split = date.split(' ')\n",
        "    year = split[0].split('-')\n",
        "    month = year[1]\n",
        "    return int(year[0])\n",
        "\n",
        "def month_split(start):\n",
        "    date = str(start)\n",
        "    split = date.split(' ')\n",
        "    year = split[0].split('-')\n",
        "    month = year[1]\n",
        "    return int(month)\n"
      ],
      "execution_count": 43,
      "outputs": []
    },
    {
      "cell_type": "code",
      "metadata": {
        "id": "WUH6MUJIvbw5",
        "colab_type": "code",
        "colab": {
          "base_uri": "https://localhost:8080/",
          "height": 609
        },
        "outputId": "548c1163-83ab-4328-aa96-9c97d7cdfe0f"
      },
      "source": [
        "df_Accidents = df_Accidents.assign(Year = df_Accidents.get('Start_Time').apply(year_split), Month = df_Accidents.get('Start_Time').apply(month_split))\n",
        "df_Accidents_Yearly = df_Accidents.groupby('Year').count().reset_index()\n",
        "df_accidents = df_Accidents[['Year','Month','Start_Time', 'Severity','Start_Lat', 'Start_Lng','State','Zipcode', 'Timezone']]\n",
        "df_accidents"
      ],
      "execution_count": 44,
      "outputs": [
        {
          "output_type": "execute_result",
          "data": {
            "text/html": [
              "<div>\n",
              "<style scoped>\n",
              "    .dataframe tbody tr th:only-of-type {\n",
              "        vertical-align: middle;\n",
              "    }\n",
              "\n",
              "    .dataframe tbody tr th {\n",
              "        vertical-align: top;\n",
              "    }\n",
              "\n",
              "    .dataframe thead th {\n",
              "        text-align: right;\n",
              "    }\n",
              "</style>\n",
              "<table border=\"1\" class=\"dataframe\">\n",
              "  <thead>\n",
              "    <tr style=\"text-align: right;\">\n",
              "      <th></th>\n",
              "      <th>Year</th>\n",
              "      <th>Month</th>\n",
              "      <th>Start_Time</th>\n",
              "      <th>Severity</th>\n",
              "      <th>Start_Lat</th>\n",
              "      <th>Start_Lng</th>\n",
              "      <th>State</th>\n",
              "      <th>Zipcode</th>\n",
              "      <th>Timezone</th>\n",
              "    </tr>\n",
              "  </thead>\n",
              "  <tbody>\n",
              "    <tr>\n",
              "      <th>0</th>\n",
              "      <td>2016</td>\n",
              "      <td>2</td>\n",
              "      <td>2016-02-08 05:46:00</td>\n",
              "      <td>3</td>\n",
              "      <td>39.865147</td>\n",
              "      <td>-84.058723</td>\n",
              "      <td>OH</td>\n",
              "      <td>45424</td>\n",
              "      <td>US/Eastern</td>\n",
              "    </tr>\n",
              "    <tr>\n",
              "      <th>1</th>\n",
              "      <td>2016</td>\n",
              "      <td>2</td>\n",
              "      <td>2016-02-08 06:07:59</td>\n",
              "      <td>2</td>\n",
              "      <td>39.928059</td>\n",
              "      <td>-82.831184</td>\n",
              "      <td>OH</td>\n",
              "      <td>43068-3402</td>\n",
              "      <td>US/Eastern</td>\n",
              "    </tr>\n",
              "    <tr>\n",
              "      <th>2</th>\n",
              "      <td>2016</td>\n",
              "      <td>2</td>\n",
              "      <td>2016-02-08 06:49:27</td>\n",
              "      <td>2</td>\n",
              "      <td>39.063148</td>\n",
              "      <td>-84.032608</td>\n",
              "      <td>OH</td>\n",
              "      <td>45176</td>\n",
              "      <td>US/Eastern</td>\n",
              "    </tr>\n",
              "    <tr>\n",
              "      <th>3</th>\n",
              "      <td>2016</td>\n",
              "      <td>2</td>\n",
              "      <td>2016-02-08 07:23:34</td>\n",
              "      <td>3</td>\n",
              "      <td>39.747753</td>\n",
              "      <td>-84.205582</td>\n",
              "      <td>OH</td>\n",
              "      <td>45417</td>\n",
              "      <td>US/Eastern</td>\n",
              "    </tr>\n",
              "    <tr>\n",
              "      <th>4</th>\n",
              "      <td>2016</td>\n",
              "      <td>2</td>\n",
              "      <td>2016-02-08 07:39:07</td>\n",
              "      <td>2</td>\n",
              "      <td>39.627781</td>\n",
              "      <td>-84.188354</td>\n",
              "      <td>OH</td>\n",
              "      <td>45459</td>\n",
              "      <td>US/Eastern</td>\n",
              "    </tr>\n",
              "    <tr>\n",
              "      <th>...</th>\n",
              "      <td>...</td>\n",
              "      <td>...</td>\n",
              "      <td>...</td>\n",
              "      <td>...</td>\n",
              "      <td>...</td>\n",
              "      <td>...</td>\n",
              "      <td>...</td>\n",
              "      <td>...</td>\n",
              "      <td>...</td>\n",
              "    </tr>\n",
              "    <tr>\n",
              "      <th>497789</th>\n",
              "      <td>2017</td>\n",
              "      <td>7</td>\n",
              "      <td>2017-07-30 01:26:14</td>\n",
              "      <td>3</td>\n",
              "      <td>33.975681</td>\n",
              "      <td>-117.335442</td>\n",
              "      <td>CA</td>\n",
              "      <td>92507</td>\n",
              "      <td>US/Pacific</td>\n",
              "    </tr>\n",
              "    <tr>\n",
              "      <th>497790</th>\n",
              "      <td>2017</td>\n",
              "      <td>7</td>\n",
              "      <td>2017-07-30 00:59:41</td>\n",
              "      <td>2</td>\n",
              "      <td>34.047970</td>\n",
              "      <td>-118.266563</td>\n",
              "      <td>CA</td>\n",
              "      <td>90017</td>\n",
              "      <td>US/Pacific</td>\n",
              "    </tr>\n",
              "    <tr>\n",
              "      <th>497791</th>\n",
              "      <td>2017</td>\n",
              "      <td>7</td>\n",
              "      <td>2017-07-30 02:10:23</td>\n",
              "      <td>3</td>\n",
              "      <td>34.029751</td>\n",
              "      <td>-118.405449</td>\n",
              "      <td>CA</td>\n",
              "      <td>90034</td>\n",
              "      <td>US/Pacific</td>\n",
              "    </tr>\n",
              "    <tr>\n",
              "      <th>497792</th>\n",
              "      <td>2017</td>\n",
              "      <td>7</td>\n",
              "      <td>2017-07-30 02:22:20</td>\n",
              "      <td>3</td>\n",
              "      <td>34.061096</td>\n",
              "      <td>-118.165329</td>\n",
              "      <td>CA</td>\n",
              "      <td>91754</td>\n",
              "      <td>US/Pacific</td>\n",
              "    </tr>\n",
              "    <tr>\n",
              "      <th>497793</th>\n",
              "      <td>2017</td>\n",
              "      <td>7</td>\n",
              "      <td>2017-07-30 02:51:40</td>\n",
              "      <td>3</td>\n",
              "      <td>33.789928</td>\n",
              "      <td>-118.207939</td>\n",
              "      <td>CA</td>\n",
              "      <td>90810</td>\n",
              "      <td>US/Pacific</td>\n",
              "    </tr>\n",
              "  </tbody>\n",
              "</table>\n",
              "<p>497794 rows × 9 columns</p>\n",
              "</div>"
            ],
            "text/plain": [
              "        Year  Month           Start_Time  ...  State     Zipcode    Timezone\n",
              "0       2016      2  2016-02-08 05:46:00  ...     OH       45424  US/Eastern\n",
              "1       2016      2  2016-02-08 06:07:59  ...     OH  43068-3402  US/Eastern\n",
              "2       2016      2  2016-02-08 06:49:27  ...     OH       45176  US/Eastern\n",
              "3       2016      2  2016-02-08 07:23:34  ...     OH       45417  US/Eastern\n",
              "4       2016      2  2016-02-08 07:39:07  ...     OH       45459  US/Eastern\n",
              "...      ...    ...                  ...  ...    ...         ...         ...\n",
              "497789  2017      7  2017-07-30 01:26:14  ...     CA       92507  US/Pacific\n",
              "497790  2017      7  2017-07-30 00:59:41  ...     CA       90017  US/Pacific\n",
              "497791  2017      7  2017-07-30 02:10:23  ...     CA       90034  US/Pacific\n",
              "497792  2017      7  2017-07-30 02:22:20  ...     CA       91754  US/Pacific\n",
              "497793  2017      7  2017-07-30 02:51:40  ...     CA       90810  US/Pacific\n",
              "\n",
              "[497794 rows x 9 columns]"
            ]
          },
          "metadata": {
            "tags": []
          },
          "execution_count": 44
        }
      ]
    },
    {
      "cell_type": "code",
      "metadata": {
        "colab_type": "code",
        "id": "Q8z8OvGXJlHs",
        "colab": {}
      },
      "source": [
        "#Convert start/end_time from object to datetime object so we can run time queries easier\n",
        "#df_Accidents['Start_Time'] = pd.to_datetime(df_Accidents['Start_Time'])\n",
        "#print(df_Accidents[df_Accidents['Start_Time'].str.len() > 19].count())\n",
        "#df_Accidents_Yearly = df_Accidents.groupby(df_Accidents.Start_Time.dt.year)\n",
        "#df_Accidents_Yearly.head()\n",
        "#df_Accidents.dtypes"
      ],
      "execution_count": 45,
      "outputs": []
    },
    {
      "cell_type": "code",
      "metadata": {
        "colab_type": "code",
        "id": "tO4pjd1bJEY_",
        "colab": {}
      },
      "source": [
        "#We can consolidate this into one graph if we fix datetime error above\n",
        "\n",
        "#2016\n",
        "df_2016 = df_accidents[df_accidents.get('Year') == 2016]\n",
        "df_2016 = df_2016.groupby('Month').count().reset_index()\n",
        "#df_2016 = df_2016[['Month']]\n",
        "#df_2016 = df_2016.assign(Count = df_2016.get('Year'))\n",
        "#2017\n",
        "df_2017 = df_accidents[df_accidents.get('Year') == 2017]\n",
        "df_2017 = df_2017.groupby('Month').count().reset_index()\n",
        "#2018\n",
        "df_2018 = df_accidents[df_accidents.get('Year') == 2018]\n",
        "df_2018 = df_2018.groupby('Month').count().reset_index()\n",
        "#2019\n",
        "df_2019 = df_accidents[df_accidents.get('Year') == 2019]\n",
        "df_2019 = df_2019.groupby('Month').count().reset_index()\n"
      ],
      "execution_count": 46,
      "outputs": []
    },
    {
      "cell_type": "code",
      "metadata": {
        "id": "xOvqkgSmw3JM",
        "colab_type": "code",
        "colab": {}
      },
      "source": [
        "df_Inflation_Rates = df_Inflation_Rates[df_Inflation_Rates['Year'] > 2015]"
      ],
      "execution_count": 47,
      "outputs": []
    },
    {
      "cell_type": "code",
      "metadata": {
        "id": "p27daXb002ZG",
        "colab_type": "code",
        "colab": {
          "base_uri": "https://localhost:8080/",
          "height": 272
        },
        "outputId": "a4c66b18-32e1-44e2-c0d2-3634a0b2dffc"
      },
      "source": [
        "#Remove this cell later\n",
        "df_temp = df_Inflation_Rates.iloc[3, :]\n",
        "df_temp"
      ],
      "execution_count": 48,
      "outputs": [
        {
          "output_type": "execute_result",
          "data": {
            "text/plain": [
              "Year    2017.0\n",
              "Jan        2.5\n",
              "Feb        2.7\n",
              "Mar        2.4\n",
              "Apr        2.2\n",
              "May        1.9\n",
              "Jun        1.6\n",
              "Jul        1.7\n",
              "Aug        1.9\n",
              "Sep        2.2\n",
              "Oct        2.0\n",
              "Nov        2.2\n",
              "Dec        2.1\n",
              "Ave        2.1\n",
              "Name: 3, dtype: float64"
            ]
          },
          "metadata": {
            "tags": []
          },
          "execution_count": 48
        }
      ]
    },
    {
      "cell_type": "code",
      "metadata": {
        "id": "mcDih3DcxXFK",
        "colab_type": "code",
        "colab": {
          "base_uri": "https://localhost:8080/",
          "height": 466
        },
        "outputId": "41690809-8f48-4bd6-e92b-50766f26089a"
      },
      "source": [
        "#Stuck trying to find a way to merge a row with a column, transpose doesnt work\n",
        "#Since we dont have too many data points for now it was just quicker to hard code the values\n",
        "#NOTE: 2016 didnt have a number of accidents reported for January\n",
        "data_Inflation_Accidents_2016 = [['Feb', 985, 1.0], ['Mar', 6329, 0.9],\n",
        "                                ['Apr', 18088, 1.1], ['May',17610, 1.0],\n",
        "                               ['Jun', 30527, 1.0], ['Jul', 45759, 0.8],\n",
        "                               ['Aug', 56425, 1.1], ['Sept', 54664, 1.5],\n",
        "                               ['Oct', 55628, 1.6],['Nov', 65010, 1.7],\n",
        "                               ['Dec', 59568, 2.1]]\n",
        "df_Inflation_Accidents_2016 = pd.DataFrame(data_Inflation_Accidents_2016, columns = ['Month', 'Accidents', 'InflationRate'])\n",
        "\n",
        "x = df_Inflation_Accidents_2016['InflationRate'].values\n",
        "y = df_Inflation_Accidents_2016['Accidents'].values\n",
        "types = df_Inflation_Accidents_2016.reset_index()['Month'].values\n",
        "\n",
        "fig, ax = plt.subplots(figsize=(7,7))\n",
        "ax.scatter(x, y)\n",
        "\n",
        "ax.set_xticks([0, 0.2, 0.4, 0.6, 0.8, 1.0, 1.2, 1.4, 1.6, 1.8, 2.0, 2.2, 2.4 ])\n",
        "ax.set_xlim((0,2.4))\n",
        "ax.set_ylim((0, 70000))\n",
        "\n",
        "ax.set_xlabel('Inflation Rate', fontsize=14)\n",
        "ax.set_ylabel('Num Accidents', fontsize=14)\n",
        "ax.set_title('Monthly Inflation Rates and Reported Accidents', fontsize=18)\n",
        "\n",
        "for i, txt in enumerate(types):\n",
        "    ax.annotate(txt, (x[i], y[i]), xytext=(10,10), textcoords='offset points')\n",
        "    plt.scatter(x, y, marker='x', color='blue')\n"
      ],
      "execution_count": 49,
      "outputs": [
        {
          "output_type": "display_data",
          "data": {
            "image/png": "[encoded data removed]",
            "text/plain": [
              "<Figure size 504x504 with 1 Axes>"
            ]
          },
          "metadata": {
            "tags": [],
            "needs_background": "light"
          }
        }
      ]
    },
    {
      "cell_type": "markdown",
      "metadata": {
        "id": "kfgHDLhjC0rY",
        "colab_type": "text"
      },
      "source": [
        "In the next  plot, we compare the monthly inflation rates in the United States with the number of accidents occuring each month. For 2016, we see that for the first half the year the interst rates tend to stay between roughly 0.8 and 1.4%, and then steadily increasing from August onward. From a simple glance, it seems that as the inflation rate increases, the number of accidents that occur also icnreases. \n",
        "\n",
        "Before we can make any assumptions, we must note that the dataset from which we collected the accident data only contains accident reports from February of 2016 to June of 2020. However, it seems that the dataset doesn't have too many accidents reported in the early months of 2016, making these outliers in this plot. "
      ]
    },
    {
      "cell_type": "code",
      "metadata": {
        "colab_type": "code",
        "id": "yTMaEAMREEa_",
        "colab": {
          "base_uri": "https://localhost:8080/",
          "height": 466
        },
        "outputId": "b6f89f26-48d6-4518-f996-24593a9ae4f2"
      },
      "source": [
        "data_Inflation_Accidents_2017 = [['Jan', 55680, 2.5], ['Feb', 51640, 2.7], \n",
        "                                 ['Mar', 57283, 2.4],['Apr', 48087, 2.2], \n",
        "                                 ['May',41106, 1.9], ['Jun', 46221, 1.6], \n",
        "                                 ['Jul', 43226, 1.7],['Aug', 80878, 1.9], \n",
        "                                 ['Sept', 76820, 2.2], ['Oct', 74905, 2.0],\n",
        "                                 ['Nov', 70074, 2.2],['Dec', 71569, 2.1]]\n",
        "df_Inflation_Accidents_2017 = pd.DataFrame(data_Inflation_Accidents_2017, columns = ['Month', 'Accidents', 'InflationRate'])\n",
        "\n",
        "x = df_Inflation_Accidents_2017['InflationRate'].values\n",
        "y = df_Inflation_Accidents_2017['Accidents'].values\n",
        "types = df_Inflation_Accidents_2017.reset_index()['Month'].values\n",
        "\n",
        "fig, ax = plt.subplots(figsize=(7,7))\n",
        "ax.scatter(x, y)\n",
        "\n",
        "ax.set_xticks([0, 0.2, 0.4, 0.6, 0.8, 1.0, 1.2, 1.4, 1.6, 1.8, 2.0, 2.2, 2.4, 2.6, 2.8 ])\n",
        "ax.set_xlim((0,2.8))\n",
        "ax.set_ylim((0, 90000))\n",
        "\n",
        "ax.set_xlabel('Inflation Rate', fontsize=14)\n",
        "ax.set_ylabel('Num Accidents', fontsize=14)\n",
        "ax.set_title('Monthly Inflation Rates and Reported Accidents', fontsize=18)\n",
        "\n",
        "for i, txt in enumerate(types):\n",
        "    ax.annotate(txt, (x[i], y[i]), xytext=(10,10), textcoords='offset points')\n",
        "    plt.scatter(x, y, marker='x', color='blue')"
      ],
      "execution_count": 50,
      "outputs": [
        {
          "output_type": "display_data",
          "data": {
            "image/png": "[encoded data removed]",
            "text/plain": [
              "<Figure size 504x504 with 1 Axes>"
            ]
          },
          "metadata": {
            "tags": [],
            "needs_background": "light"
          }
        }
      ]
    },
    {
      "cell_type": "markdown",
      "metadata": {
        "id": "4EvI4MZGJLxH",
        "colab_type": "text"
      },
      "source": [
        "In 2017, it is clear that the inflation rates were consistently higher than they were the previous year. In 2016, the average inflation rate was 1.3% and by the end of 2017 the average rate had increased to 2.1%. This time around, the first half of the year appears to have higher inflation rates than the second half. In 2017, sources indicate that final-demand prices for goods, services, and construction had increased significaltly since 2016. One impact of increased inflation rates is that it lowers the cost to borrow money. This can lead to more people purchasing new vehicles, thus resulting in more cars on the road. "
      ]
    },
    {
      "cell_type": "code",
      "metadata": {
        "id": "gwdbIqApGEJf",
        "colab_type": "code",
        "colab": {
          "base_uri": "https://localhost:8080/",
          "height": 466
        },
        "outputId": "3a210c6f-45fc-43ce-8449-81e9124f3842"
      },
      "source": [
        "data_Inflation_Accidents_2018 = [['Jan', 74999, 2.1], ['Feb', 71464, 2.2], \n",
        "                                 ['Mar', 74423, 2.4],['Apr', 72592, 2.5], \n",
        "                                 ['May',76475, 2.8], ['Jun', 67777, 2.9], \n",
        "                                 ['Jul', 65749, 2.9],['Aug', 76381, 2.7], \n",
        "                                 ['Sept', 73277, 2.3], ['Oct', 87195, 2.5],\n",
        "                                 ['Nov', 82078, 2.2],['Dec', 70205, 1.9]]\n",
        "df_Inflation_Accidents_2018 = pd.DataFrame(data_Inflation_Accidents_2018, columns = ['Month', 'Accidents', 'InflationRate'])\n",
        "\n",
        "x = df_Inflation_Accidents_2018['InflationRate'].values\n",
        "y = df_Inflation_Accidents_2018['Accidents'].values\n",
        "types = df_Inflation_Accidents_2018.reset_index()['Month'].values\n",
        "\n",
        "fig, ax = plt.subplots(figsize=(7,7))\n",
        "ax.scatter(x, y)\n",
        "\n",
        "ax.set_xticks([0, 0.2, 0.4, 0.6, 0.8, 1.0, 1.2, 1.4, 1.6, 1.8, 2.0, 2.2, 2.4, 2.6, 2.8, 3.0 ])\n",
        "ax.set_xlim((0,3.0))\n",
        "#ax.set_ylim((0, 85000))\n",
        "\n",
        "ax.set_xlabel('Inflation Rate', fontsize=14)\n",
        "ax.set_ylabel('Num Accidents', fontsize=14)\n",
        "ax.set_title('Monthly Inflation Rates and Reported Accidents', fontsize=18)\n",
        "\n",
        "for i, txt in enumerate(types):\n",
        "    ax.annotate(txt, (x[i], y[i]), xytext=(10,10), textcoords='offset points')\n",
        "    plt.scatter(x, y, marker='x', color='blue')"
      ],
      "execution_count": 51,
      "outputs": [
        {
          "output_type": "display_data",
          "data": {
            "image/png": "[encoded data removed]",
            "text/plain": [
              "<Figure size 504x504 with 1 Axes>"
            ]
          },
          "metadata": {
            "tags": [],
            "needs_background": "light"
          }
        }
      ]
    },
    {
      "cell_type": "markdown",
      "metadata": {
        "id": "kO-rIpzO_YLb",
        "colab_type": "text"
      },
      "source": [
        "The inflation rates continued to increase into 2018 and the most surprising thing is that the rates never went below 2% except in December which had a rate of 1.9%. Historically, data shows that high inflation rates have lead to reduced unemployment. With more people employed, this leads to more people commutting to their jobs, increasing traffic and the likelihood for accidents to occur. In addition, the number of accidents occuring each month in 2018 was over 65000 each month, resulting in nearly twice as many accidents as 2017. The data from this year supports our hypothesis that there is a positive correlation between inflation rate and accident frequency."
      ]
    },
    {
      "cell_type": "code",
      "metadata": {
        "id": "Q0TIzx0TKQsK",
        "colab_type": "code",
        "colab": {
          "base_uri": "https://localhost:8080/",
          "height": 466
        },
        "outputId": "580b9993-676e-4878-df9c-65f4ea0b77ba"
      },
      "source": [
        "data_Inflation_Accidents_2019 = [['Jan', 79276, 1.6], ['Feb', 74559, 1.5], \n",
        "                                 ['Mar', 69401, 1.9],['Apr', 73001, 2.0], \n",
        "                                 ['May',73864, 1.8], ['Jun', 65501, 1.6], \n",
        "                                 ['Jul', 68234, 1.8],['Aug', 75246, 1.7], \n",
        "                                 ['Sept', 87659, 1.7], ['Oct', 106817, 1.8],\n",
        "                                 ['Nov', 81894, 2.1],['Dec', 98281, 2.3]]\n",
        "df_Inflation_Accidents_2019 = pd.DataFrame(data_Inflation_Accidents_2019, columns = ['Month', 'Accidents', 'InflationRate'])\n",
        "\n",
        "x = df_Inflation_Accidents_2019['InflationRate'].values\n",
        "y = df_Inflation_Accidents_2019['Accidents'].values\n",
        "types = df_Inflation_Accidents_2019.reset_index()['Month'].values\n",
        "\n",
        "fig, ax = plt.subplots(figsize=(7,7))\n",
        "ax.scatter(x, y)\n",
        "\n",
        "ax.set_xticks([0, 0.2, 0.4, 0.6, 0.8, 1.0, 1.2, 1.4, 1.6, 1.8, 2.0, 2.2, 2.4, 2.6])\n",
        "ax.set_xlim((0,2.8))\n",
        "\n",
        "\n",
        "ax.set_xlabel('Inflation Rate', fontsize=14)\n",
        "ax.set_ylabel('Num Accidents', fontsize=14)\n",
        "ax.set_title('Monthly Inflation Rates and Reported Accidents', fontsize=18)\n",
        "\n",
        "for i, txt in enumerate(types):\n",
        "    ax.annotate(txt, (x[i], y[i]), xytext=(10,10), textcoords='offset points')\n",
        "    plt.scatter(x, y, marker='x', color='blue')"
      ],
      "execution_count": 52,
      "outputs": [
        {
          "output_type": "display_data",
          "data": {
            "image/png": "[encoded data removed]",
            "text/plain": [
              "<Figure size 504x504 with 1 Axes>"
            ]
          },
          "metadata": {
            "tags": [],
            "needs_background": "light"
          }
        }
      ]
    },
    {
      "cell_type": "markdown",
      "metadata": {
        "id": "dRr4Is3gJFVS",
        "colab_type": "text"
      },
      "source": [
        "In 2019, there starts to be a significant decrease in interest rates, yet the number of accidents is just as high as 2018. October of 2019 reported about 106,000 accidents, making it the highest number of recorded accidents amongst all four years. However, in the inflation rates for this year mostly ranged from 1.6-1.8%, but the accidents counts were between 70-80,000 reports. "
      ]
    },
    {
      "cell_type": "code",
      "metadata": {
        "id": "GN_XZByOg8iq",
        "colab_type": "code",
        "colab": {
          "base_uri": "https://localhost:8080/",
          "height": 638
        },
        "outputId": "78b0e489-7a1f-4b15-83e1-1c570041a584"
      },
      "source": [
        "plt.figure(figsize=(15,15))\n",
        "fig, axs = plt.subplots(2, 2, figsize=(10,10))\n",
        "\n",
        "axs[0,0].scatter(df_Inflation_Accidents_2016['InflationRate'].values, df_Inflation_Accidents_2016['Accidents'].values)\n",
        "axs[0, 0].set_title('2016')\n",
        "types_2016 = df_Inflation_Accidents_2016.reset_index()['Month'].values\n",
        "\n",
        "axs[0,1].scatter(df_Inflation_Accidents_2017['InflationRate'].values, df_Inflation_Accidents_2017['Accidents'].values)\n",
        "axs[0, 1].set_title('Accident Frequency 2017')\n",
        "types_2017 = df_Inflation_Accidents_2017.reset_index()['Month'].values\n",
        "\n",
        "axs[1,0].scatter(df_Inflation_Accidents_2018['InflationRate'].values, df_Inflation_Accidents_2018['Accidents'].values)\n",
        "axs[1, 0].set_title('Accident Frequency 2018')\n",
        "types_2018 = df_Inflation_Accidents_2018.reset_index()['Month'].values\n",
        "\n",
        "axs[1,1].scatter(df_Inflation_Accidents_2019['InflationRate'].values, df_Inflation_Accidents_2019['Accidents'].values)\n",
        "axs[1, 1].set_title('Accident Frequency 2019')\n",
        "types_2019 = df_Inflation_Accidents_2019.reset_index()['Month'].values\n",
        "\n",
        "for ax in axs.flat:\n",
        "    ax.set(xlabel='Inflation Rate', ylabel='Accident Count')\n",
        "\n",
        "for ax in axs.flat:\n",
        "    ax.label_outer()\n",
        "\n",
        "for ax in axs.flat:\n",
        "  ax.set_xticks([0, 0.2, 0.4, 0.6, 0.8, 1.0, 1.2, 1.4, 1.6, 1.8, 2.0, 2.2, 2.4, 2.6, 2.8])\n",
        "  ax.set_xlim((0,2.8))\n",
        "\n",
        "# for i, txt in enumerate(types_2016):\n",
        "#     ax.annotate(txt, (x[i], y[i]), xytext=(10,10), textcoords='offset points')\n",
        "#     plt.scatter(x, y, color='blue')\n",
        "\n",
        "\n",
        "# for i, txt in enumerate(types_2017):\n",
        "#     ax.annotate(txt, (x[i], y[i]), xytext=(10,10), textcoords='offset points')\n",
        "#     plt.scatter(x, y, color='blue')\n",
        "\n",
        "\n",
        "# for i, txt in enumerate(types_2018):\n",
        "#     ax.annotate(txt, (x[i], y[i]), xytext=(10,10), textcoords='offset points')\n",
        "#     plt.scatter(x, y, color='blue')\n",
        "\n",
        "\n",
        "# for i, txt in enumerate(types_2019):\n",
        "#     ax.annotate(txt, (x[i], y[i]), xytext=(10,10), textcoords='offset points')\n",
        "#     plt.scatter(x, y, color='blue')\n"
      ],
      "execution_count": 53,
      "outputs": [
        {
          "output_type": "display_data",
          "data": {
            "text/plain": [
              "<Figure size 1080x1080 with 0 Axes>"
            ]
          },
          "metadata": {
            "tags": []
          }
        },
        {
          "output_type": "display_data",
          "data": {
            "image/png": "[encoded data removed]",
            "text/plain": [
              "<Figure size 720x720 with 4 Axes>"
            ]
          },
          "metadata": {
            "tags": [],
            "needs_background": "light"
          }
        }
      ]
    },
    {
      "cell_type": "markdown",
      "metadata": {
        "id": "KcqxJivdM_yE",
        "colab_type": "text"
      },
      "source": [
        "\n",
        "\n",
        "\n",
        "**General Observations**\n",
        "\n",
        "An interesting observation to note is that the Spring and Summer months appear to have fewer accidents than Fall and Winter months. As expected, during the Fall and Winter seasons road conditions tend to become more dangerous due to rain and snow on the roads. "
      ]
    },
    {
      "cell_type": "code",
      "metadata": {
        "id": "TMtLdMLtvbxI",
        "colab_type": "code",
        "colab": {
          "base_uri": "https://localhost:8080/",
          "height": 638
        },
        "outputId": "80cbc3ae-66e6-4db9-d94d-5bf4f37b991d"
      },
      "source": [
        "plt.figure(figsize=(10,10))\n",
        "fig, axs = plt.subplots(2, 2, figsize=(10,10))\n",
        "\n",
        "axs[0,0].plot(df_2016['Month'], df_2016['State'])\n",
        "axs[0, 0].set_title('Accident Frequency 2016')\n",
        "\n",
        "axs[0,1].plot(df_2017['Month'], df_2017['State'])\n",
        "axs[0, 1].set_title('Accident Frequency 2017')\n",
        "\n",
        "axs[1,0].plot(df_2018['Month'], df_2018['State'])\n",
        "axs[1, 0].set_title('Accident Frequency 2018')\n",
        "\n",
        "axs[1,1].plot(df_2019['Month'], df_2019['State'])\n",
        "axs[1, 1].set_title('Accident Frequency 2019')\n",
        "\n",
        "for ax in axs.flat:\n",
        "    ax.set(xlabel='Month', ylabel='Accident Count')\n",
        "\n",
        "for ax in axs.flat:\n",
        "    ax.label_outer()"
      ],
      "execution_count": 54,
      "outputs": [
        {
          "output_type": "display_data",
          "data": {
            "text/plain": [
              "<Figure size 720x720 with 0 Axes>"
            ]
          },
          "metadata": {
            "tags": []
          }
        },
        {
          "output_type": "display_data",
          "data": {
            "image/png": "[encoded data removed]",
            "text/plain": [
              "<Figure size 720x720 with 4 Axes>"
            ]
          },
          "metadata": {
            "tags": [],
            "needs_background": "light"
          }
        }
      ]
    },
    {
      "cell_type": "code",
      "metadata": {
        "colab_type": "code",
        "id": "M2tLjNKO4Rbd",
        "colab": {
          "base_uri": "https://localhost:8080/",
          "height": 705
        },
        "outputId": "b1e675fa-a528-4e36-92d9-f0175913ea47"
      },
      "source": [
        "plt.figure(figsize=(10,5))\n",
        "df_Unemployment_Rate = df_Unemployment_Rate[df_Unemployment_Rate['Year'] > 1999]\n",
        "ax = sns.barplot(x=df_Unemployment_Rate['Year'], y=df_Unemployment_Rate['Annual'],\n",
        "            data=df_Unemployment_Rate, ci=None, color='blue')\n",
        "\n",
        "ax.set_title('Average Unemployment Rate')\n",
        "ax.set_xticklabels(ax.get_xticklabels(), rotation=45)\n",
        "\n",
        "\n"
      ],
      "execution_count": 38,
      "outputs": [
        {
          "output_type": "execute_result",
          "data": {
            "text/plain": [
              "[Text(0, 0, '2000'),\n",
              " Text(0, 0, '2001'),\n",
              " Text(0, 0, '2002'),\n",
              " Text(0, 0, '2003'),\n",
              " Text(0, 0, '2004'),\n",
              " Text(0, 0, '2005'),\n",
              " Text(0, 0, '2006'),\n",
              " Text(0, 0, '2007'),\n",
              " Text(0, 0, '2008'),\n",
              " Text(0, 0, '2009'),\n",
              " Text(0, 0, '2010'),\n",
              " Text(0, 0, '2011'),\n",
              " Text(0, 0, '2012'),\n",
              " Text(0, 0, '2013'),\n",
              " Text(0, 0, '2014'),\n",
              " Text(0, 0, '2015'),\n",
              " Text(0, 0, '2016'),\n",
              " Text(0, 0, '2017'),\n",
              " Text(0, 0, '2018'),\n",
              " Text(0, 0, '2019')]"
            ]
          },
          "metadata": {
            "tags": []
          },
          "execution_count": 38
        },
        {
          "output_type": "display_data",
          "data": {
            "image/png": "[encoded data removed]",
            "text/plain": [
              "<Figure size 720x360 with 1 Axes>"
            ]
          },
          "metadata": {
            "tags": [],
            "needs_background": "light"
          }
        }
      ]
    },
    {
      "cell_type": "code",
      "metadata": {
        "colab_type": "code",
        "id": "Oq_c4Caa6q1L",
        "colab": {}
      },
      "source": [
        ""
      ],
      "execution_count": 38,
      "outputs": []
    }
  ]
}