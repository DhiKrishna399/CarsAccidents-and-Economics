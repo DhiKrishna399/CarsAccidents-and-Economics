{
  "nbformat": 4,
  "nbformat_minor": 0,
  "metadata": {
    "colab": {
      "name": "Cars&Economics.ipynb",
      "provenance": [],
      "collapsed_sections": []
    },
    "kernelspec": {
      "display_name": "Python 3",
      "language": "python",
      "name": "python3"
    },
    "language_info": {
      "codemirror_mode": {
        "name": "ipython",
        "version": 3
      },
      "file_extension": ".py",
      "mimetype": "text/x-python",
      "name": "python",
      "nbconvert_exporter": "python",
      "pygments_lexer": "ipython3",
      "version": "3.7.4"
    }
  },
  "cells": [
    {
      "cell_type": "markdown",
      "metadata": {
        "colab_type": "text",
        "id": "b0gcsD0yRrjN"
      },
      "source": [
        "# **Economic Car Accidents**"
      ]
    },
    {
      "cell_type": "markdown",
      "metadata": {
        "colab_type": "text",
        "id": "d3cVrFZRR2fA"
      },
      "source": [
        "# **Reseach Question**"
      ]
    },
    {
      "cell_type": "markdown",
      "metadata": {
        "colab_type": "text",
        "id": "BSA2QkiSSIn3"
      },
      "source": [
        "**(1) How significant of an impact do economic factors have on the frequency and magnitude of car accidents that occur in the United States?**\n"
      ]
    },
    {
      "cell_type": "markdown",
      "metadata": {
        "colab_type": "text",
        "id": "OJRGAxr6ScWf"
      },
      "source": [
        "# **Background and Prior Research**\n"
      ]
    },
    {
      "cell_type": "markdown",
      "metadata": {
        "colab_type": "text",
        "id": "OVpUACA2sUh7"
      },
      "source": [
        "When you think of transportation in the United States, the first thing that comes to mind are cars. With over 250 million registered vehciles in the country, it remains the most common method of transportation to date. With this many vehiciles, we also face an ever increasing number of car accidents. With millions of accidents being reported, insruance companies have used this data to figure out in which situations accidents are more likely to occur. \n",
        "\n",
        "However, one factor that nobody ever really correlates with car accidents, is the economy. An article from *The Los Angeles Times* estimated that in 2014, car accidents tend to have an economoic toll of almost $1 trillion dollars (Fleming). These costs add up based off several factors, such as medical expenses, property damage, and air pollution just to name a few. While there are several indicators of how car accidents affect our economy, we wanted to see if the economy had an impact on the number of accidents that occur in a given year.\n",
        "\n",
        "\n",
        "Sources: https://www.latimes.com/business/autos/la-fi-hy-economic-impact-of-traffic-accidents-20140529-story.html"
      ]
    },
    {
      "cell_type": "markdown",
      "metadata": {
        "colab_type": "text",
        "id": "BCC7uMNX7jtt"
      },
      "source": [
        "**Notes:**\n",
        "\n",
        "The only real trend that studies have shown between cars and the economy is that people are more likely to purchase a new car when the economy is doing well. \n",
        "\n",
        "**Potential Comparisons/Analysis Ideas:**\n",
        "1. Unemployment rates vs. accidents per month/year\n",
        "  a. we have both yearly avg and monthly rates so we can just filter all accidents in the given time frame and make month to month comparisons of the rate and the # of accidents\n",
        "  b. \n",
        "\n",
        "2. Use multiple lienar regression and use economic factors and correlate with the number of accidents per year or month\n",
        "\n",
        "3. Use some ML and try to predict what 2020 will be like \n",
        "\n"
      ]
    },
    {
      "cell_type": "markdown",
      "metadata": {
        "colab_type": "text",
        "id": "PZDcjmDeDn8U"
      },
      "source": [
        "# Datasets"
      ]
    },
    {
      "cell_type": "markdown",
      "metadata": {
        "colab_type": "text",
        "id": "pdZSY-x-DtMO"
      },
      "source": [
        "**Accidents:**  https://www.kaggle.com/sobhanmoosavi/us-accidents\n",
        "\n",
        "**Unemployment Rates Yearly:** https://data.bls.gov/timeseries/LNU04023554&series_id=LNU04000000&series_id=LNU03023554&series_id=LNU03000000&years_option=all_years&periods_option=specific_periods&periods=Annual+Data\n",
        "\n",
        "**GDP Data:** https://www.thebalance.com/us-gdp-by-year-3305543\n",
        "\n",
        "**Inflation Rates:** https://www.usinflationcalculator.com/inflation/current-inflation-rates/\n"
      ]
    },
    {
      "cell_type": "markdown",
      "metadata": {
        "colab_type": "text",
        "id": "EqbtAt3MAAeC"
      },
      "source": [
        "# **Data Cleaning**"
      ]
    },
    {
      "cell_type": "markdown",
      "metadata": {
        "colab_type": "text",
        "id": "L4h1veZwAsLu"
      },
      "source": [
        "# **Setup & Packages**"
      ]
    },
    {
      "cell_type": "code",
      "metadata": {
        "colab_type": "code",
        "id": "RV_QYlNMShJB",
        "colab": {
          "base_uri": "https://localhost:8080/",
          "height": 71
        },
        "outputId": "92709f24-5c00-4ea1-894c-cec8b883d0f1"
      },
      "source": [
        "import pandas as pd\n",
        "import numpy as np\n",
        "import matplotlib.pyplot as plt\n",
        "import seaborn as sns\n",
        "import requests\n",
        "from bs4 import BeautifulSoup"
      ],
      "execution_count": 1,
      "outputs": [
        {
          "output_type": "stream",
          "text": [
            "/usr/local/lib/python3.6/dist-packages/statsmodels/tools/_testing.py:19: FutureWarning: pandas.util.testing is deprecated. Use the functions in the public API at pandas.testing instead.\n",
            "  import pandas.util.testing as tm\n"
          ],
          "name": "stderr"
        }
      ]
    },
    {
      "cell_type": "code",
      "metadata": {
        "colab_type": "code",
        "id": "sPQQi6oZSjRK",
        "colab": {}
      },
      "source": [
        "#Import all Datasets\n",
        "df_Accidents = pd.read_csv('US_Accidents_June20.csv')\n",
        "df_Unemployment = pd.read_excel('UnemploymentRates.xlsx')\n",
        "df_Unemployment_Rate = pd.read_excel('UnemployedYearlyRates.xlsx')\n",
        "df_Inflation_Rates = pd.read_excel('InflationRates.xlsx')"
      ],
      "execution_count": 2,
      "outputs": []
    },
    {
      "cell_type": "code",
      "metadata": {
        "colab_type": "code",
        "id": "njKT_saBZ9Vq",
        "colab": {
          "base_uri": "https://localhost:8080/",
          "height": 204
        },
        "outputId": "a19945fa-ff70-4dfb-8368-1da33a85f35c"
      },
      "source": [
        "#Scrape for GDP data\n",
        "GDP_URL = 'https://www.thebalance.com/us-gdp-by-year-3305543'\n",
        "page = requests.get(GDP_URL)\n",
        "soup = BeautifulSoup(page.text, 'html.parser')\n",
        "\n",
        "\n",
        "gdp_Table = soup.find('table', attrs={'class':\"mntl-sc-block-table__table\"})\n",
        "list_a, list_b, list_c, list_d = [], [], [], []\n",
        "\n",
        "for row in gdp_Table.findAll('tr'):\n",
        "\n",
        "  cells=row.findAll('td')\n",
        "\n",
        "  try:\n",
        "    list_a.append(cells[0].find(text=True))\n",
        "    list_b.append(cells[1].find(text=True))\n",
        "    list_c.append(cells[2].find(text=True))\n",
        "    list_d.append(cells[3].find(text=True))\n",
        "  except:\n",
        "    break\n",
        "\n",
        "df_GDP = pd.DataFrame({\n",
        "    'Year' : list_a,\n",
        "    'Nominal_GDP' : list_b,\n",
        "    'Real_GDP' : list_c,\n",
        "    'GDP Growth Rate' : list_d\n",
        "})\n",
        "\n",
        "df_GDP = df_GDP.iloc[1:]\n",
        "\n",
        "#Convert to int values\n",
        "df_GDP['Year'] = pd.to_numeric(df_GDP['Year'])\n",
        "\n",
        "\n",
        "#Might have to convert to string and then integer to remove '$' and store as integer\n",
        "#df_GDP.Nominal_GDP.str.replace('$','')\n",
        "#df_GDP.Real_GDP.str.replace('$','')\n",
        "\n",
        "#df_GDP['Nominal_GDP'] = pd.to_numeric(df_GDP['Nominal_GDP'])\n",
        "#df_GDP['Real_GDP'] = pd.to_numeric(df_GDP['Real_GDP'])\n",
        "\n",
        "df_GDP = df_GDP[df_GDP['Year'] > 1999]\n",
        "\n",
        "df_GDP.dtypes\n",
        "df_GDP.head()\n"
      ],
      "execution_count": 3,
      "outputs": [
        {
          "output_type": "execute_result",
          "data": {
            "text/html": [
              "<div>\n",
              "<style scoped>\n",
              "    .dataframe tbody tr th:only-of-type {\n",
              "        vertical-align: middle;\n",
              "    }\n",
              "\n",
              "    .dataframe tbody tr th {\n",
              "        vertical-align: top;\n",
              "    }\n",
              "\n",
              "    .dataframe thead th {\n",
              "        text-align: right;\n",
              "    }\n",
              "</style>\n",
              "<table border=\"1\" class=\"dataframe\">\n",
              "  <thead>\n",
              "    <tr style=\"text-align: right;\">\n",
              "      <th></th>\n",
              "      <th>Year</th>\n",
              "      <th>Nominal_GDP</th>\n",
              "      <th>Real_GDP</th>\n",
              "      <th>GDP Growth Rate</th>\n",
              "    </tr>\n",
              "  </thead>\n",
              "  <tbody>\n",
              "    <tr>\n",
              "      <th>72</th>\n",
              "      <td>2000</td>\n",
              "      <td>$10.252</td>\n",
              "      <td>$13.131</td>\n",
              "      <td>4.1%</td>\n",
              "    </tr>\n",
              "    <tr>\n",
              "      <th>73</th>\n",
              "      <td>2001</td>\n",
              "      <td>$10.582</td>\n",
              "      <td>$13.262</td>\n",
              "      <td>1.0%</td>\n",
              "    </tr>\n",
              "    <tr>\n",
              "      <th>74</th>\n",
              "      <td>2002</td>\n",
              "      <td>$10.936</td>\n",
              "      <td>$13.493</td>\n",
              "      <td>1.7%</td>\n",
              "    </tr>\n",
              "    <tr>\n",
              "      <th>75</th>\n",
              "      <td>2003</td>\n",
              "      <td>$11.458</td>\n",
              "      <td>$13.879</td>\n",
              "      <td>2.9%</td>\n",
              "    </tr>\n",
              "    <tr>\n",
              "      <th>76</th>\n",
              "      <td>2004</td>\n",
              "      <td>$12.214</td>\n",
              "      <td>$14.406</td>\n",
              "      <td>3.8%</td>\n",
              "    </tr>\n",
              "  </tbody>\n",
              "</table>\n",
              "</div>"
            ],
            "text/plain": [
              "    Year Nominal_GDP Real_GDP GDP Growth Rate\n",
              "72  2000     $10.252  $13.131            4.1%\n",
              "73  2001     $10.582  $13.262            1.0%\n",
              "74  2002     $10.936  $13.493            1.7%\n",
              "75  2003     $11.458  $13.879            2.9%\n",
              "76  2004     $12.214  $14.406            3.8%"
            ]
          },
          "metadata": {
            "tags": []
          },
          "execution_count": 3
        }
      ]
    },
    {
      "cell_type": "code",
      "metadata": {
        "colab_type": "code",
        "id": "yZZbv94YDFSe",
        "colab": {}
      },
      "source": [
        "def year_split(start):\n",
        "    date = str(start)\n",
        "    split = date.split(' ')\n",
        "    year = split[0].split('-')\n",
        "    month = year[1]\n",
        "    return int(year[0])\n",
        "\n",
        "def month_split(start):\n",
        "    date = str(start)\n",
        "    split = date.split(' ')\n",
        "    year = split[0].split('-')\n",
        "    month = year[1]\n",
        "    return int(month)\n"
      ],
      "execution_count": 4,
      "outputs": []
    },
    {
      "cell_type": "code",
      "metadata": {
        "id": "WUH6MUJIvbw5",
        "colab_type": "code",
        "colab": {
          "base_uri": "https://localhost:8080/",
          "height": 419
        },
        "outputId": "e2d7107e-10b2-408f-bfcb-e85cede840b6"
      },
      "source": [
        "df_Accidents = df_Accidents.assign(Year = df_Accidents.get('Start_Time').apply(year_split), Month = df_Accidents.get('Start_Time').apply(month_split))\n",
        "df_Accidents_Yearly = df_Accidents.groupby('Year').count().reset_index()\n",
        "df_accidents = df_Accidents[['Year','Month','Start_Time', 'Severity','Start_Lat', 'Start_Lng','State','Zipcode', 'Timezone']]\n",
        "df_accidents"
      ],
      "execution_count": 5,
      "outputs": [
        {
          "output_type": "execute_result",
          "data": {
            "text/html": [
              "<div>\n",
              "<style scoped>\n",
              "    .dataframe tbody tr th:only-of-type {\n",
              "        vertical-align: middle;\n",
              "    }\n",
              "\n",
              "    .dataframe tbody tr th {\n",
              "        vertical-align: top;\n",
              "    }\n",
              "\n",
              "    .dataframe thead th {\n",
              "        text-align: right;\n",
              "    }\n",
              "</style>\n",
              "<table border=\"1\" class=\"dataframe\">\n",
              "  <thead>\n",
              "    <tr style=\"text-align: right;\">\n",
              "      <th></th>\n",
              "      <th>Year</th>\n",
              "      <th>Month</th>\n",
              "      <th>Start_Time</th>\n",
              "      <th>Severity</th>\n",
              "      <th>Start_Lat</th>\n",
              "      <th>Start_Lng</th>\n",
              "      <th>State</th>\n",
              "      <th>Zipcode</th>\n",
              "      <th>Timezone</th>\n",
              "    </tr>\n",
              "  </thead>\n",
              "  <tbody>\n",
              "    <tr>\n",
              "      <th>0</th>\n",
              "      <td>2016</td>\n",
              "      <td>2</td>\n",
              "      <td>2016-02-08 05:46:00</td>\n",
              "      <td>3</td>\n",
              "      <td>39.865147</td>\n",
              "      <td>-84.058723</td>\n",
              "      <td>OH</td>\n",
              "      <td>45424</td>\n",
              "      <td>US/Eastern</td>\n",
              "    </tr>\n",
              "    <tr>\n",
              "      <th>1</th>\n",
              "      <td>2016</td>\n",
              "      <td>2</td>\n",
              "      <td>2016-02-08 06:07:59</td>\n",
              "      <td>2</td>\n",
              "      <td>39.928059</td>\n",
              "      <td>-82.831184</td>\n",
              "      <td>OH</td>\n",
              "      <td>43068-3402</td>\n",
              "      <td>US/Eastern</td>\n",
              "    </tr>\n",
              "    <tr>\n",
              "      <th>2</th>\n",
              "      <td>2016</td>\n",
              "      <td>2</td>\n",
              "      <td>2016-02-08 06:49:27</td>\n",
              "      <td>2</td>\n",
              "      <td>39.063148</td>\n",
              "      <td>-84.032608</td>\n",
              "      <td>OH</td>\n",
              "      <td>45176</td>\n",
              "      <td>US/Eastern</td>\n",
              "    </tr>\n",
              "    <tr>\n",
              "      <th>3</th>\n",
              "      <td>2016</td>\n",
              "      <td>2</td>\n",
              "      <td>2016-02-08 07:23:34</td>\n",
              "      <td>3</td>\n",
              "      <td>39.747753</td>\n",
              "      <td>-84.205582</td>\n",
              "      <td>OH</td>\n",
              "      <td>45417</td>\n",
              "      <td>US/Eastern</td>\n",
              "    </tr>\n",
              "    <tr>\n",
              "      <th>4</th>\n",
              "      <td>2016</td>\n",
              "      <td>2</td>\n",
              "      <td>2016-02-08 07:39:07</td>\n",
              "      <td>2</td>\n",
              "      <td>39.627781</td>\n",
              "      <td>-84.188354</td>\n",
              "      <td>OH</td>\n",
              "      <td>45459</td>\n",
              "      <td>US/Eastern</td>\n",
              "    </tr>\n",
              "    <tr>\n",
              "      <th>...</th>\n",
              "      <td>...</td>\n",
              "      <td>...</td>\n",
              "      <td>...</td>\n",
              "      <td>...</td>\n",
              "      <td>...</td>\n",
              "      <td>...</td>\n",
              "      <td>...</td>\n",
              "      <td>...</td>\n",
              "      <td>...</td>\n",
              "    </tr>\n",
              "    <tr>\n",
              "      <th>3513612</th>\n",
              "      <td>2019</td>\n",
              "      <td>8</td>\n",
              "      <td>2019-08-23 18:03:25</td>\n",
              "      <td>2</td>\n",
              "      <td>34.002480</td>\n",
              "      <td>-117.379360</td>\n",
              "      <td>CA</td>\n",
              "      <td>92501</td>\n",
              "      <td>US/Pacific</td>\n",
              "    </tr>\n",
              "    <tr>\n",
              "      <th>3513613</th>\n",
              "      <td>2019</td>\n",
              "      <td>8</td>\n",
              "      <td>2019-08-23 19:11:30</td>\n",
              "      <td>2</td>\n",
              "      <td>32.766960</td>\n",
              "      <td>-117.148060</td>\n",
              "      <td>CA</td>\n",
              "      <td>92108</td>\n",
              "      <td>US/Pacific</td>\n",
              "    </tr>\n",
              "    <tr>\n",
              "      <th>3513614</th>\n",
              "      <td>2019</td>\n",
              "      <td>8</td>\n",
              "      <td>2019-08-23 19:00:21</td>\n",
              "      <td>2</td>\n",
              "      <td>33.775450</td>\n",
              "      <td>-117.847790</td>\n",
              "      <td>CA</td>\n",
              "      <td>92866</td>\n",
              "      <td>US/Pacific</td>\n",
              "    </tr>\n",
              "    <tr>\n",
              "      <th>3513615</th>\n",
              "      <td>2019</td>\n",
              "      <td>8</td>\n",
              "      <td>2019-08-23 19:00:21</td>\n",
              "      <td>2</td>\n",
              "      <td>33.992460</td>\n",
              "      <td>-118.403020</td>\n",
              "      <td>CA</td>\n",
              "      <td>90230</td>\n",
              "      <td>US/Pacific</td>\n",
              "    </tr>\n",
              "    <tr>\n",
              "      <th>3513616</th>\n",
              "      <td>2019</td>\n",
              "      <td>8</td>\n",
              "      <td>2019-08-23 18:52:06</td>\n",
              "      <td>2</td>\n",
              "      <td>34.133930</td>\n",
              "      <td>-117.230920</td>\n",
              "      <td>CA</td>\n",
              "      <td>92346</td>\n",
              "      <td>US/Pacific</td>\n",
              "    </tr>\n",
              "  </tbody>\n",
              "</table>\n",
              "<p>3513617 rows × 9 columns</p>\n",
              "</div>"
            ],
            "text/plain": [
              "         Year  Month           Start_Time  ...  State     Zipcode    Timezone\n",
              "0        2016      2  2016-02-08 05:46:00  ...     OH       45424  US/Eastern\n",
              "1        2016      2  2016-02-08 06:07:59  ...     OH  43068-3402  US/Eastern\n",
              "2        2016      2  2016-02-08 06:49:27  ...     OH       45176  US/Eastern\n",
              "3        2016      2  2016-02-08 07:23:34  ...     OH       45417  US/Eastern\n",
              "4        2016      2  2016-02-08 07:39:07  ...     OH       45459  US/Eastern\n",
              "...       ...    ...                  ...  ...    ...         ...         ...\n",
              "3513612  2019      8  2019-08-23 18:03:25  ...     CA       92501  US/Pacific\n",
              "3513613  2019      8  2019-08-23 19:11:30  ...     CA       92108  US/Pacific\n",
              "3513614  2019      8  2019-08-23 19:00:21  ...     CA       92866  US/Pacific\n",
              "3513615  2019      8  2019-08-23 19:00:21  ...     CA       90230  US/Pacific\n",
              "3513616  2019      8  2019-08-23 18:52:06  ...     CA       92346  US/Pacific\n",
              "\n",
              "[3513617 rows x 9 columns]"
            ]
          },
          "metadata": {
            "tags": []
          },
          "execution_count": 5
        }
      ]
    },
    {
      "cell_type": "code",
      "metadata": {
        "colab_type": "code",
        "id": "Q8z8OvGXJlHs",
        "colab": {}
      },
      "source": [
        "#Convert start/end_time from object to datetime object so we can run time queries easier\n",
        "#df_Accidents['Start_Time'] = pd.to_datetime(df_Accidents['Start_Time'])\n",
        "#print(df_Accidents[df_Accidents['Start_Time'].str.len() > 19].count())\n",
        "#df_Accidents_Yearly = df_Accidents.groupby(df_Accidents.Start_Time.dt.year)\n",
        "#df_Accidents_Yearly.head()\n",
        "#df_Accidents.dtypes"
      ],
      "execution_count": 6,
      "outputs": []
    },
    {
      "cell_type": "code",
      "metadata": {
        "colab_type": "code",
        "id": "tO4pjd1bJEY_",
        "colab": {}
      },
      "source": [
        "#We can consolidate this into one graph if we fix datetime error above\n",
        "\n",
        "#2016\n",
        "df_2016 = df_accidents[df_accidents.get('Year') == 2016]\n",
        "df_2016 = df_2016.groupby('Month').count().reset_index()\n",
        "#df_2016 = df_2016[['Month']]\n",
        "#df_2016 = df_2016.assign(Count = df_2016.get('Year'))\n",
        "#2017\n",
        "df_2017 = df_accidents[df_accidents.get('Year') == 2017]\n",
        "df_2017 = df_2017.groupby('Month').count().reset_index()\n",
        "#2018\n",
        "df_2018 = df_accidents[df_accidents.get('Year') == 2018]\n",
        "df_2018 = df_2018.groupby('Month').count().reset_index()\n",
        "#2019\n",
        "df_2019 = df_accidents[df_accidents.get('Year') == 2019]\n",
        "df_2019 = df_2019.groupby('Month').count().reset_index()"
      ],
      "execution_count": 7,
      "outputs": []
    },
    {
      "cell_type": "code",
      "metadata": {
        "id": "xOvqkgSmw3JM",
        "colab_type": "code",
        "colab": {
          "base_uri": "https://localhost:8080/",
          "height": 421
        },
        "outputId": "db3b60a4-03e7-4415-a971-1d6be9d8fc40"
      },
      "source": [
        "df_Inflation_Rates = df_Inflation_Rates[df_Inflation_Rates['Year'] > 2015]\n",
        "df_2019"
      ],
      "execution_count": 33,
      "outputs": [
        {
          "output_type": "execute_result",
          "data": {
            "text/html": [
              "<div>\n",
              "<style scoped>\n",
              "    .dataframe tbody tr th:only-of-type {\n",
              "        vertical-align: middle;\n",
              "    }\n",
              "\n",
              "    .dataframe tbody tr th {\n",
              "        vertical-align: top;\n",
              "    }\n",
              "\n",
              "    .dataframe thead th {\n",
              "        text-align: right;\n",
              "    }\n",
              "</style>\n",
              "<table border=\"1\" class=\"dataframe\">\n",
              "  <thead>\n",
              "    <tr style=\"text-align: right;\">\n",
              "      <th></th>\n",
              "      <th>Month</th>\n",
              "      <th>Year</th>\n",
              "      <th>Start_Time</th>\n",
              "      <th>Severity</th>\n",
              "      <th>Start_Lat</th>\n",
              "      <th>Start_Lng</th>\n",
              "      <th>State</th>\n",
              "      <th>Zipcode</th>\n",
              "      <th>Timezone</th>\n",
              "    </tr>\n",
              "  </thead>\n",
              "  <tbody>\n",
              "    <tr>\n",
              "      <th>0</th>\n",
              "      <td>1</td>\n",
              "      <td>79276</td>\n",
              "      <td>79276</td>\n",
              "      <td>79276</td>\n",
              "      <td>79276</td>\n",
              "      <td>79276</td>\n",
              "      <td>79276</td>\n",
              "      <td>79260</td>\n",
              "      <td>79169</td>\n",
              "    </tr>\n",
              "    <tr>\n",
              "      <th>1</th>\n",
              "      <td>2</td>\n",
              "      <td>74559</td>\n",
              "      <td>74559</td>\n",
              "      <td>74559</td>\n",
              "      <td>74559</td>\n",
              "      <td>74559</td>\n",
              "      <td>74559</td>\n",
              "      <td>74533</td>\n",
              "      <td>74431</td>\n",
              "    </tr>\n",
              "    <tr>\n",
              "      <th>2</th>\n",
              "      <td>3</td>\n",
              "      <td>69401</td>\n",
              "      <td>69401</td>\n",
              "      <td>69401</td>\n",
              "      <td>69401</td>\n",
              "      <td>69401</td>\n",
              "      <td>69401</td>\n",
              "      <td>69375</td>\n",
              "      <td>69271</td>\n",
              "    </tr>\n",
              "    <tr>\n",
              "      <th>3</th>\n",
              "      <td>4</td>\n",
              "      <td>73001</td>\n",
              "      <td>73001</td>\n",
              "      <td>73001</td>\n",
              "      <td>73001</td>\n",
              "      <td>73001</td>\n",
              "      <td>73001</td>\n",
              "      <td>72968</td>\n",
              "      <td>72901</td>\n",
              "    </tr>\n",
              "    <tr>\n",
              "      <th>4</th>\n",
              "      <td>5</td>\n",
              "      <td>73864</td>\n",
              "      <td>73864</td>\n",
              "      <td>73864</td>\n",
              "      <td>73864</td>\n",
              "      <td>73864</td>\n",
              "      <td>73864</td>\n",
              "      <td>73836</td>\n",
              "      <td>73773</td>\n",
              "    </tr>\n",
              "    <tr>\n",
              "      <th>5</th>\n",
              "      <td>6</td>\n",
              "      <td>65501</td>\n",
              "      <td>65501</td>\n",
              "      <td>65501</td>\n",
              "      <td>65501</td>\n",
              "      <td>65501</td>\n",
              "      <td>65501</td>\n",
              "      <td>65480</td>\n",
              "      <td>65412</td>\n",
              "    </tr>\n",
              "    <tr>\n",
              "      <th>6</th>\n",
              "      <td>7</td>\n",
              "      <td>68234</td>\n",
              "      <td>68234</td>\n",
              "      <td>68234</td>\n",
              "      <td>68234</td>\n",
              "      <td>68234</td>\n",
              "      <td>68234</td>\n",
              "      <td>68193</td>\n",
              "      <td>68096</td>\n",
              "    </tr>\n",
              "    <tr>\n",
              "      <th>7</th>\n",
              "      <td>8</td>\n",
              "      <td>75246</td>\n",
              "      <td>75246</td>\n",
              "      <td>75246</td>\n",
              "      <td>75246</td>\n",
              "      <td>75246</td>\n",
              "      <td>75246</td>\n",
              "      <td>75216</td>\n",
              "      <td>75130</td>\n",
              "    </tr>\n",
              "    <tr>\n",
              "      <th>8</th>\n",
              "      <td>9</td>\n",
              "      <td>87659</td>\n",
              "      <td>87659</td>\n",
              "      <td>87659</td>\n",
              "      <td>87659</td>\n",
              "      <td>87659</td>\n",
              "      <td>87659</td>\n",
              "      <td>87639</td>\n",
              "      <td>87536</td>\n",
              "    </tr>\n",
              "    <tr>\n",
              "      <th>9</th>\n",
              "      <td>10</td>\n",
              "      <td>106817</td>\n",
              "      <td>106817</td>\n",
              "      <td>106817</td>\n",
              "      <td>106817</td>\n",
              "      <td>106817</td>\n",
              "      <td>106817</td>\n",
              "      <td>106779</td>\n",
              "      <td>106646</td>\n",
              "    </tr>\n",
              "    <tr>\n",
              "      <th>10</th>\n",
              "      <td>11</td>\n",
              "      <td>81894</td>\n",
              "      <td>81894</td>\n",
              "      <td>81894</td>\n",
              "      <td>81894</td>\n",
              "      <td>81894</td>\n",
              "      <td>81894</td>\n",
              "      <td>81868</td>\n",
              "      <td>81763</td>\n",
              "    </tr>\n",
              "    <tr>\n",
              "      <th>11</th>\n",
              "      <td>12</td>\n",
              "      <td>98281</td>\n",
              "      <td>98281</td>\n",
              "      <td>98281</td>\n",
              "      <td>98281</td>\n",
              "      <td>98281</td>\n",
              "      <td>98281</td>\n",
              "      <td>98244</td>\n",
              "      <td>98154</td>\n",
              "    </tr>\n",
              "  </tbody>\n",
              "</table>\n",
              "</div>"
            ],
            "text/plain": [
              "    Month    Year  Start_Time  Severity  ...  Start_Lng   State  Zipcode  Timezone\n",
              "0       1   79276       79276     79276  ...      79276   79276    79260     79169\n",
              "1       2   74559       74559     74559  ...      74559   74559    74533     74431\n",
              "2       3   69401       69401     69401  ...      69401   69401    69375     69271\n",
              "3       4   73001       73001     73001  ...      73001   73001    72968     72901\n",
              "4       5   73864       73864     73864  ...      73864   73864    73836     73773\n",
              "5       6   65501       65501     65501  ...      65501   65501    65480     65412\n",
              "6       7   68234       68234     68234  ...      68234   68234    68193     68096\n",
              "7       8   75246       75246     75246  ...      75246   75246    75216     75130\n",
              "8       9   87659       87659     87659  ...      87659   87659    87639     87536\n",
              "9      10  106817      106817    106817  ...     106817  106817   106779    106646\n",
              "10     11   81894       81894     81894  ...      81894   81894    81868     81763\n",
              "11     12   98281       98281     98281  ...      98281   98281    98244     98154\n",
              "\n",
              "[12 rows x 9 columns]"
            ]
          },
          "metadata": {
            "tags": []
          },
          "execution_count": 33
        }
      ]
    },
    {
      "cell_type": "code",
      "metadata": {
        "id": "p27daXb002ZG",
        "colab_type": "code",
        "colab": {
          "base_uri": "https://localhost:8080/",
          "height": 272
        },
        "outputId": "9807eb43-85bf-4210-d064-255fbc1837b0"
      },
      "source": [
        "df_temp = df_Inflation_Rates.iloc[1, :]\n",
        "df_temp"
      ],
      "execution_count": 32,
      "outputs": [
        {
          "output_type": "execute_result",
          "data": {
            "text/plain": [
              "Year    2019.0\n",
              "Jan        1.6\n",
              "Feb        1.5\n",
              "Mar        1.9\n",
              "Apr        2.0\n",
              "May        1.8\n",
              "Jun        1.6\n",
              "Jul        1.8\n",
              "Aug        1.7\n",
              "Sep        1.7\n",
              "Oct        1.8\n",
              "Nov        2.1\n",
              "Dec        2.3\n",
              "Ave        1.8\n",
              "Name: 1, dtype: float64"
            ]
          },
          "metadata": {
            "tags": []
          },
          "execution_count": 32
        }
      ]
    },
    {
      "cell_type": "code",
      "metadata": {
        "id": "mcDih3DcxXFK",
        "colab_type": "code",
        "colab": {
          "base_uri": "https://localhost:8080/",
          "height": 466
        },
        "outputId": "1f78e78c-8192-498f-86fb-71226e42d121"
      },
      "source": [
        "#Stuck trying to find a way to merge a row with a column, transpose doesnt work\n",
        "#Since we dont have too many data points for now it was just quicker to hard code the values\n",
        "#NOTE: 2016 didnt have a number of accidents reported for January\n",
        "data_Inflation_Accidents_2016 = [['Feb', 985, 1.0], ['Mar', 6329, 0.9],\n",
        "                                ['Apr', 18088, 1.1], ['May',17610, 1.0],\n",
        "                               ['Jun', 30527, 1.0], ['Jul', 45759, 0.8],\n",
        "                               ['Aug', 56425, 1.1], ['Sept', 54664, 1.5],\n",
        "                               ['Oct', 55628, 1.6],['Nov', 65010, 1.7],\n",
        "                               ['Dec', 59568, 2.1]]\n",
        "df_Inflation_Accidents_2016 = pd.DataFrame(data_Inflation_Accidents_2016, columns = ['Month', 'Accidents', 'InflationRate'])\n",
        "\n",
        "x = df_Inflation_Accidents_2016['InflationRate'].values\n",
        "y = df_Inflation_Accidents_2016['Accidents'].values\n",
        "types = df_Inflation_Accidents_2016.reset_index()['Month'].values\n",
        "\n",
        "fig, ax = plt.subplots(figsize=(7,7))\n",
        "ax.scatter(x, y)\n",
        "\n",
        "ax.set_xlabel('Inflation Rate', fontsize=14)\n",
        "ax.set_ylabel('Num Accidents', fontsize=14)\n",
        "ax.set_title('Monthly Inflation Rates and Reported Accidents', fontsize=18)\n",
        "\n",
        "for i, txt in enumerate(types):\n",
        "    ax.annotate(txt, (x[i], y[i]), xytext=(10,10), textcoords='offset points')\n",
        "    plt.scatter(x, y, marker='x', color='blue')\n"
      ],
      "execution_count": 19,
      "outputs": [
        {
          "output_type": "display_data",
          "data": {
            "image/png": "[encoded data removed]",
            "text/plain": [
              "<Figure size 504x504 with 1 Axes>"
            ]
          },
          "metadata": {
            "tags": [],
            "needs_background": "light"
          }
        }
      ]
    },
    {
      "cell_type": "code",
      "metadata": {
        "colab_type": "code",
        "id": "yTMaEAMREEa_",
        "colab": {
          "base_uri": "https://localhost:8080/",
          "height": 466
        },
        "outputId": "a9d4e37f-80d9-4752-a7fa-8e171cc5e50f"
      },
      "source": [
        "data_Inflation_Accidents_2017 = [['Jan', 55680, 2.5], ['Feb', 51640, 2.7], \n",
        "                                 ['Mar', 57283, 2.4],['Apr', 48087, 2.2], \n",
        "                                 ['May',41106, 1.9], ['Jun', 46221, 1.6], \n",
        "                                 ['Jul', 43226, 1.7],['Aug', 80878, 1.9], \n",
        "                                 ['Sept', 76820, 2.2], ['Oct', 74905, 2.0],\n",
        "                                 ['Nov', 70074, 2.2],['Dec', 71569, 2.1]]\n",
        "df_Inflation_Accidents_2017 = pd.DataFrame(data_Inflation_Accidents_2017, columns = ['Month', 'Accidents', 'InflationRate'])\n",
        "\n",
        "x = df_Inflation_Accidents_2017['InflationRate'].values\n",
        "y = df_Inflation_Accidents_2017['Accidents'].values\n",
        "types = df_Inflation_Accidents_2017.reset_index()['Month'].values\n",
        "\n",
        "fig, ax = plt.subplots(figsize=(7,7))\n",
        "ax.scatter(x, y)\n",
        "\n",
        "ax.set_xlabel('Inflation Rate', fontsize=14)\n",
        "ax.set_ylabel('Num Accidents', fontsize=14)\n",
        "ax.set_title('Monthly Inflation Rates and Reported Accidents', fontsize=18)\n",
        "\n",
        "for i, txt in enumerate(types):\n",
        "    ax.annotate(txt, (x[i], y[i]), xytext=(10,10), textcoords='offset points')\n",
        "    plt.scatter(x, y, marker='x', color='blue')"
      ],
      "execution_count": 25,
      "outputs": [
        {
          "output_type": "display_data",
          "data": {
            "image/png": "[encoded data removed]",
            "text/plain": [
              "<Figure size 504x504 with 1 Axes>"
            ]
          },
          "metadata": {
            "tags": [],
            "needs_background": "light"
          }
        }
      ]
    },
    {
      "cell_type": "code",
      "metadata": {
        "id": "gwdbIqApGEJf",
        "colab_type": "code",
        "colab": {
          "base_uri": "https://localhost:8080/",
          "height": 466
        },
        "outputId": "d08acc61-94e3-4cc0-bfa2-c0ecfff4f74e"
      },
      "source": [
        "data_Inflation_Accidents_2018 = [['Jan', 74999, 2.1], ['Feb', 71464, 2.2], \n",
        "                                 ['Mar', 74423, 2.4],['Apr', 72592, 2.5], \n",
        "                                 ['May',76475, 2.8], ['Jun', 67777, 2.9], \n",
        "                                 ['Jul', 65749, 2.9],['Aug', 76381, 2.7], \n",
        "                                 ['Sept', 73277, 2.3], ['Oct', 87195, 2.5],\n",
        "                                 ['Nov', 82078, 2.2],['Dec', 70205, 1.9]]\n",
        "df_Inflation_Accidents_2018 = pd.DataFrame(data_Inflation_Accidents_2018, columns = ['Month', 'Accidents', 'InflationRate'])\n",
        "\n",
        "x = df_Inflation_Accidents_2018['InflationRate'].values\n",
        "y = df_Inflation_Accidents_2018['Accidents'].values\n",
        "types = df_Inflation_Accidents_2018.reset_index()['Month'].values\n",
        "\n",
        "fig, ax = plt.subplots(figsize=(7,7))\n",
        "ax.scatter(x, y)\n",
        "\n",
        "ax.set_xlabel('Inflation Rate', fontsize=14)\n",
        "ax.set_ylabel('Num Accidents', fontsize=14)\n",
        "ax.set_title('Monthly Inflation Rates and Reported Accidents', fontsize=18)\n",
        "\n",
        "for i, txt in enumerate(types):\n",
        "    ax.annotate(txt, (x[i], y[i]), xytext=(10,10), textcoords='offset points')\n",
        "    plt.scatter(x, y, marker='x', color='blue')"
      ],
      "execution_count": 31,
      "outputs": [
        {
          "output_type": "display_data",
          "data": {
            "image/png": "[encoded data removed]",
            "text/plain": [
              "<Figure size 504x504 with 1 Axes>"
            ]
          },
          "metadata": {
            "tags": [],
            "needs_background": "light"
          }
        }
      ]
    },
    {
      "cell_type": "code",
      "metadata": {
        "id": "Q0TIzx0TKQsK",
        "colab_type": "code",
        "colab": {
          "base_uri": "https://localhost:8080/",
          "height": 466
        },
        "outputId": "85a0ec53-2eb0-4fe3-9359-8e05cce46d70"
      },
      "source": [
        "data_Inflation_Accidents_2019 = [['Jan', 79276, 1.6], ['Feb', 74559, 1.5], \n",
        "                                 ['Mar', 69401, 1.9],['Apr', 73001, 2.0], \n",
        "                                 ['May',73864, 1.8], ['Jun', 65501, 1.6], \n",
        "                                 ['Jul', 68234, 1.8],['Aug', 75246, 1.7], \n",
        "                                 ['Sept', 87659, 1.7], ['Oct', 106817, 1.8],\n",
        "                                 ['Nov', 81894, 2.1],['Dec', 98281, 2.3]]\n",
        "df_Inflation_Accidents_2019 = pd.DataFrame(data_Inflation_Accidents_2019, columns = ['Month', 'Accidents', 'InflationRate'])\n",
        "\n",
        "x = df_Inflation_Accidents_2019['InflationRate'].values\n",
        "y = df_Inflation_Accidents_2019['Accidents'].values\n",
        "types = df_Inflation_Accidents_2019.reset_index()['Month'].values\n",
        "\n",
        "fig, ax = plt.subplots(figsize=(7,7))\n",
        "ax.scatter(x, y)\n",
        "\n",
        "ax.set_xlabel('Inflation Rate', fontsize=14)\n",
        "ax.set_ylabel('Num Accidents', fontsize=14)\n",
        "ax.set_title('Monthly Inflation Rates and Reported Accidents', fontsize=18)\n",
        "\n",
        "for i, txt in enumerate(types):\n",
        "    ax.annotate(txt, (x[i], y[i]), xytext=(10,10), textcoords='offset points')\n",
        "    plt.scatter(x, y, marker='x', color='blue')"
      ],
      "execution_count": 34,
      "outputs": [
        {
          "output_type": "display_data",
          "data": {
            "image/png": "[encoded data removed]",
            "text/plain": [
              "<Figure size 504x504 with 1 Axes>"
            ]
          },
          "metadata": {
            "tags": [],
            "needs_background": "light"
          }
        }
      ]
    },
    {
      "cell_type": "code",
      "metadata": {
        "id": "TMtLdMLtvbxI",
        "colab_type": "code",
        "colab": {
          "base_uri": "https://localhost:8080/",
          "height": 296
        },
        "outputId": "a92b0fef-9ed0-47a3-915f-29431da1dc44"
      },
      "source": [
        "df_2016.plot.line(x = 'Month', y = 'State')"
      ],
      "execution_count": 13,
      "outputs": [
        {
          "output_type": "execute_result",
          "data": {
            "text/plain": [
              "<matplotlib.axes._subplots.AxesSubplot at 0x7f609e84d2e8>"
            ]
          },
          "metadata": {
            "tags": []
          },
          "execution_count": 13
        },
        {
          "output_type": "display_data",
          "data": {
            "image/png": "[encoded data removed]",
            "text/plain": [
              "<Figure size 432x288 with 1 Axes>"
            ]
          },
          "metadata": {
            "tags": [],
            "needs_background": "light"
          }
        }
      ]
    },
    {
      "cell_type": "code",
      "metadata": {
        "colab_type": "code",
        "id": "M2tLjNKO4Rbd",
        "colab": {
          "base_uri": "https://localhost:8080/",
          "height": 705
        },
        "outputId": "51d24843-5485-4b6d-b567-e587181851d8"
      },
      "source": [
        "plt.figure(figsize=(10,5))\n",
        "df_Unemployment_Rate = df_Unemployment_Rate[df_Unemployment_Rate['Year'] > 1999]\n",
        "ax = sns.barplot(x=df_Unemployment_Rate['Year'], y=df_Unemployment_Rate['Annual'],\n",
        "            data=df_Unemployment_Rate, ci=None, color='blue')\n",
        "\n",
        "ax.set_title('Average Unemployment Rate')\n",
        "ax.set_xticklabels(ax.get_xticklabels(), rotation=45)\n",
        "\n",
        "\n"
      ],
      "execution_count": 14,
      "outputs": [
        {
          "output_type": "execute_result",
          "data": {
            "text/plain": [
              "[Text(0, 0, '2000'),\n",
              " Text(0, 0, '2001'),\n",
              " Text(0, 0, '2002'),\n",
              " Text(0, 0, '2003'),\n",
              " Text(0, 0, '2004'),\n",
              " Text(0, 0, '2005'),\n",
              " Text(0, 0, '2006'),\n",
              " Text(0, 0, '2007'),\n",
              " Text(0, 0, '2008'),\n",
              " Text(0, 0, '2009'),\n",
              " Text(0, 0, '2010'),\n",
              " Text(0, 0, '2011'),\n",
              " Text(0, 0, '2012'),\n",
              " Text(0, 0, '2013'),\n",
              " Text(0, 0, '2014'),\n",
              " Text(0, 0, '2015'),\n",
              " Text(0, 0, '2016'),\n",
              " Text(0, 0, '2017'),\n",
              " Text(0, 0, '2018'),\n",
              " Text(0, 0, '2019')]"
            ]
          },
          "metadata": {
            "tags": []
          },
          "execution_count": 14
        },
        {
          "output_type": "display_data",
          "data": {
            "image/png": "[encoded data removed]",
            "text/plain": [
              "<Figure size 720x360 with 1 Axes>"
            ]
          },
          "metadata": {
            "tags": [],
            "needs_background": "light"
          }
        }
      ]
    },
    {
      "cell_type": "code",
      "metadata": {
        "colab_type": "code",
        "id": "Oq_c4Caa6q1L",
        "colab": {}
      },
      "source": [
        ""
      ],
      "execution_count": 14,
      "outputs": []
    }
  ]
}